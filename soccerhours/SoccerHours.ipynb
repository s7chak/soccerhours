{
 "cells": [
  {
   "cell_type": "markdown",
   "metadata": {},
   "source": [
    "# Soccer Hours\n"
   ]
  },
  {
   "cell_type": "markdown",
   "metadata": {},
   "source": [
    "## Setting up Database using Python"
   ]
  },
  {
   "cell_type": "code",
   "execution_count": 4,
   "metadata": {},
   "outputs": [],
   "source": [
    "# Import sqlite3 module\n",
    "import sqlite3\n",
    "import getpass\n",
    "import datetime\n",
    "\n",
    "# Connect to the soccerhours database\n",
    "db=sqlite3.connect(\"/Users/abhishekkardak/Downloads/APAD/project1/SoccerHours3.db\")\n",
    "cursor = db.cursor()\n"
   ]
  },
  {
   "cell_type": "code",
   "execution_count": 5,
   "metadata": {},
   "outputs": [
    {
     "data": {
      "text/plain": [
       "<sqlite3.Cursor at 0x10fbd93b0>"
      ]
     },
     "execution_count": 5,
     "metadata": {},
     "output_type": "execute_result"
    }
   ],
   "source": [
    "# Create table Users - Stores User data\n",
    "cursor.execute('''\n",
    "CREATE TABLE user (\n",
    "    pk_user_id INTEGER PRIMARY KEY AUTOINCREMENT,\n",
    "    user_fname VARCHAR,\n",
    "    user_lname VARCHAR,\n",
    "    username VARCHAR NOT NULL,\n",
    "    admin_status VARCHAR NOT NULL,\n",
    "    user_status VARCHAR NOT NULL,\n",
    "    user_email VARCHAR NOT NULL,\n",
    "    user_password VARCHAR NOT NULL,\n",
    "    zip_code INTEGER NOT NULL,\n",
    "    date_added TIMESTAMP NOT NULL\n",
    ")\n",
    "''')\n"
   ]
  },
  {
   "cell_type": "code",
   "execution_count": 6,
   "metadata": {},
   "outputs": [],
   "source": [
    "cursor.execute(''' Insert into sqlite_sequence values(\\'user\\',100) ''')\n",
    "cursor.execute(''' Insert into sqlite_sequence values(\\'venue\\',200) ''')\n",
    "cursor.execute(''' Insert into sqlite_sequence values(\\'events\\',300) ''')\n",
    "db.commit()"
   ]
  },
  {
   "cell_type": "code",
   "execution_count": 7,
   "metadata": {},
   "outputs": [
    {
     "data": {
      "text/plain": [
       "<sqlite3.Cursor at 0x10fbd93b0>"
      ]
     },
     "execution_count": 7,
     "metadata": {},
     "output_type": "execute_result"
    }
   ],
   "source": [
    "# Create table Venues - Stores Venue data\n",
    "cursor.execute('''\n",
    "CREATE TABLE venue (\n",
    "    pk_venue_id INTEGER NOT NULL PRIMARY KEY AUTOINCREMENT,\n",
    "    venue_name VARCHAR NOT NULL,\n",
    "    venue_desc VARCHAR NOT NULL,\n",
    "    venue_st_addr VARCHAR NOT NULL,\n",
    "    venue_zip_code INTEGER NOT NULL\n",
    ")\n",
    "''')"
   ]
  },
  {
   "cell_type": "code",
   "execution_count": 8,
   "metadata": {},
   "outputs": [
    {
     "data": {
      "text/plain": [
       "<sqlite3.Cursor at 0x10fbd93b0>"
      ]
     },
     "execution_count": 8,
     "metadata": {},
     "output_type": "execute_result"
    }
   ],
   "source": [
    "# Create table Venues - Stores Venue data\n",
    "cursor.execute('''\n",
    "CREATE TABLE events (\n",
    "    pk_event_id INTEGER PRIMARY KEY AUTOINCREMENT,\n",
    "    event_name VARCHAR NOT NULL,\n",
    "    event_desc VARCHAR NOT NULL,\n",
    "    event_date DATETIME NOT NULL,\n",
    "    start_time INTEGER NOT NULL,\n",
    "    end_time INTEGER NOT NULL,\n",
    "    user_id INTEGER NOT NULL,    \n",
    "    venue_id INTEGER NOT NULL,\n",
    "    event_capacity INTEGER NOT NULL,\n",
    "    event_status VARCHAR NOT NULL,\n",
    "    gender_option VARCHAR NOT NULL,\n",
    "    members_joined INTEGER NOT NULL,\n",
    "    slots VARCHAR NOT NULL\n",
    ")\n",
    "''')"
   ]
  },
  {
   "cell_type": "code",
   "execution_count": 9,
   "metadata": {},
   "outputs": [
    {
     "data": {
      "text/plain": [
       "<sqlite3.Cursor at 0x10fbd93b0>"
      ]
     },
     "execution_count": 9,
     "metadata": {},
     "output_type": "execute_result"
    }
   ],
   "source": [
    "# Create table Venues - Stores Venue data\n",
    "cursor.execute('''\n",
    "CREATE TABLE slots (\n",
    "    slot_id INTEGER NOT NULL,\n",
    "    venue_id INTEGER NOT NULL,\n",
    "    date DATETIME NOT NULL,\n",
    "    availability VARCHAR NOT NULL\n",
    ")\n",
    "''')"
   ]
  },
  {
   "cell_type": "code",
   "execution_count": 10,
   "metadata": {},
   "outputs": [
    {
     "data": {
      "text/plain": [
       "<sqlite3.Cursor at 0x10fbd93b0>"
      ]
     },
     "execution_count": 10,
     "metadata": {},
     "output_type": "execute_result"
    }
   ],
   "source": [
    "# Create table Venues - Stores Venue data\n",
    "cursor.execute('''\n",
    "CREATE TABLE event_members (\n",
    "    event_id INTEGER NOT NULL,\n",
    "    user_id INTEGER NOT NULL\n",
    ")\n",
    "''')"
   ]
  },
  {
   "cell_type": "code",
   "execution_count": 11,
   "metadata": {},
   "outputs": [],
   "source": [
    "# Create Static table for Slot ID defintions\n",
    "cursor.execute('''\n",
    "CREATE TABLE timeslots (\n",
    "    start_time INTEGER NOT NULL,\n",
    "    slot_id INTEGER NOT NULL\n",
    ")\n",
    "''')\n",
    "\n",
    "db.commit()"
   ]
  },
  {
   "cell_type": "code",
   "execution_count": 12,
   "metadata": {},
   "outputs": [],
   "source": [
    "#Create static table to store time slot values\n",
    "cursor.execute('''\n",
    "INSERT INTO timeslots VALUES (8,1),(9,2),(10,3),(11,4),(12,5),(13,6),(14,7),(15,8),(16,9),(17,10),(18,11),(19,12),(20,13);\n",
    "''')\n",
    "\n",
    "db.commit()"
   ]
  },
  {
   "cell_type": "markdown",
   "metadata": {},
   "source": [
    "### Common Functions"
   ]
  },
  {
   "cell_type": "code",
   "execution_count": 13,
   "metadata": {},
   "outputs": [],
   "source": [
    "# Duplicate UserName check\n",
    "def dup_username_check(username):\n",
    "\n",
    "    cursor.execute(''' SELECT username from user ''')\n",
    "    usernames=cursor.fetchall()\n",
    "    if ((username,) in usernames):\n",
    "        print(\"UserName {0} already exists.\".format(username))\n",
    "        return False\n",
    "    else:\n",
    "        print(\"Username available, please proceed.\")\n",
    "        return True"
   ]
  },
  {
   "cell_type": "code",
   "execution_count": 14,
   "metadata": {},
   "outputs": [],
   "source": [
    "# Duplicate Email check\n",
    "def dup_email_check(email):\n",
    "\n",
    "    cursor.execute(''' SELECT user_email from user ''')\n",
    "    emails=cursor.fetchall()\n",
    "    if (email,) in emails:\n",
    "        print(\"User with email address {0} already exists.\".format(email))\n",
    "        return False\n",
    "    print(\"Unique email address, please proceed.\")\n",
    "    return True"
   ]
  },
  {
   "cell_type": "code",
   "execution_count": 15,
   "metadata": {},
   "outputs": [],
   "source": [
    "# Duplicate Venue check\n",
    "def dup_venue_check(venuename,zipcode):\n",
    "\n",
    "    cursor.execute(''' SELECT venue_name, venue_zip_code from venue ''')\n",
    "    venues=cursor.fetchall()\n",
    "    venue=(venuename,zipcode)\n",
    "\n",
    "    if (venue in venues):\n",
    "        print(\"Venue with name: \\'{0}\\' and Zip code: {1} already exists.\".format(venuename,zipcode))\n",
    "        return False\n",
    "    else:\n",
    "        return True"
   ]
  },
  {
   "cell_type": "code",
   "execution_count": 16,
   "metadata": {},
   "outputs": [],
   "source": [
    "# Function to get slot IDs from start and end times\n",
    "\n",
    "def get_slot_ids(starttime, endtime):\n",
    "    diff = endtime - starttime\n",
    "    slotstarts=starttime\n",
    "    slotids = list()\n",
    "    cursor.execute(''' SELECT slot_id from timeslots where start_time= ? ''',(starttime,))\n",
    "    slotid=cursor.fetchone()[0]\n",
    "    slotids.append(int(slotid))\n",
    "    \n",
    "    if diff>1:\n",
    "        for i in range(diff-1): \n",
    "            slotids.append(slotids[i]+1)\n",
    "        return slotids    \n",
    "    else:\n",
    "        return slotids[0]"
   ]
  },
  {
   "cell_type": "code",
   "execution_count": 17,
   "metadata": {},
   "outputs": [],
   "source": [
    "#Function to check validity of date, by identifying dates as 'G' for future dates, 'L' for past dates and 'T' for today.\n",
    "\n",
    "def check_valid_date(date):\n",
    "    today=str(datetime.datetime.today()).split()[0]\n",
    "    if (date>today):\n",
    "        return 'G'\n",
    "    elif(today>date):\n",
    "        return 'L'\n",
    "    else:\n",
    "        return 'T'\n",
    "    \n",
    "    "
   ]
  },
  {
   "cell_type": "code",
   "execution_count": 18,
   "metadata": {},
   "outputs": [],
   "source": [
    "# Function to check validity of time entered for the current day\n",
    "\n",
    "def check_valid_time_today(starttime):\n",
    "    now = datetime.datetime.now()\n",
    "    if (now.hour >= int(starttime)):\n",
    "        return False\n",
    "    else:\n",
    "        return True\n",
    "    "
   ]
  },
  {
   "cell_type": "code",
   "execution_count": 19,
   "metadata": {},
   "outputs": [],
   "source": [
    "# Function to check invalid start and end times\n",
    "\n",
    "def check_start_end_time(time,startorend):\n",
    "    now = datetime.datetime.now()\n",
    "    inttime=int(time)\n",
    "    if (startorend=='S'):\n",
    "        if (inttime<8 or inttime>20):\n",
    "            return False\n",
    "        else:\n",
    "            return True\n",
    "    else:\n",
    "        if (inttime<8 or inttime>21):\n",
    "            return False\n",
    "        else:\n",
    "            return True"
   ]
  },
  {
   "cell_type": "code",
   "execution_count": 20,
   "metadata": {},
   "outputs": [],
   "source": [
    "# Check if Slots table is populated\n",
    "def check_venue_slots(venueid, eventdate):\n",
    "    cursor.execute(''' Select 1 from slots where venue_id=? and date=? ''',(venueid,eventdate))\n",
    "    if cursor.fetchone()!=None:\n",
    "        return 'P'\n",
    "    return 'N'\n",
    "    "
   ]
  },
  {
   "cell_type": "code",
   "execution_count": 21,
   "metadata": {},
   "outputs": [],
   "source": [
    "# Check if given slots are already booked\n",
    "def check_slots_booked(venueid, eventdate, slotids):\n",
    "\n",
    "    if isinstance(slotids,list):\n",
    "        for slotid in slotids:\n",
    "            cursor.execute(''' Select count(1) from slots where venue_id=? and date=? and availability=\\'U\\' and slot_id=?''',(venueid,eventdate,slotid))\n",
    "            num = cursor.fetchone()[0]\n",
    "            if num>0:\n",
    "                return True\n",
    "            else:\n",
    "                continue\n",
    "    else:\n",
    "        cursor.execute(''' Select count(1) from slots where venue_id=? and date=? and availability=\\'U\\' and slot_id=?''',(venueid,eventdate,slotids))\n",
    "        if(cursor.fetchone()[0]>0):\n",
    "                return True\n",
    "    return False\n"
   ]
  },
  {
   "cell_type": "code",
   "execution_count": 22,
   "metadata": {},
   "outputs": [],
   "source": [
    "#Function to check if an user exists\n",
    "\n",
    "def check_valid_user(userid):\n",
    "    cursor.execute(''' Select pk_user_id from user where pk_user_id=? ''',(userid,))\n",
    "    user=cursor.fetchone()\n",
    "    if(user!=None):\n",
    "        return True\n",
    "    return False\n",
    "    "
   ]
  },
  {
   "cell_type": "code",
   "execution_count": 23,
   "metadata": {},
   "outputs": [],
   "source": [
    "# Function to check if a venue exists\n",
    "\n",
    "def check_valid_venue(venueid):\n",
    "    cursor.execute(''' Select pk_venue_id from venue where pk_venue_id=? ''',(venueid,))\n",
    "    venue=cursor.fetchone()\n",
    "    if venue:\n",
    "        return True\n",
    "    return False"
   ]
  },
  {
   "cell_type": "code",
   "execution_count": 24,
   "metadata": {},
   "outputs": [],
   "source": [
    "# Function to check if an event exists\n",
    "\n",
    "def check_valid_event(eventid):\n",
    "    cursor.execute(''' Select pk_event_id from events where pk_event_id=? ''',(eventid,))\n",
    "    event=cursor.fetchone()\n",
    "    if(event!=None):\n",
    "        return True\n",
    "    return False"
   ]
  },
  {
   "cell_type": "code",
   "execution_count": 25,
   "metadata": {},
   "outputs": [],
   "source": [
    "# Function to check the validity of date format\n",
    "\n",
    "def validate_date(date):\n",
    "    try:\n",
    "        datetime.datetime.strptime(date, '%Y-%m-%d')\n",
    "    except ValueError:\n",
    "        raise ValueError(\"Incorrect data format, should be YYYY-MM-DD\")"
   ]
  },
  {
   "cell_type": "markdown",
   "metadata": {},
   "source": [
    "# Python Function Definitions"
   ]
  },
  {
   "cell_type": "markdown",
   "metadata": {},
   "source": [
    "## 1. Add New User\n",
    "\n",
    "This function adds a user to the SoccerHours Database. The database stores users personal information including their first and last names, email ID, ZIP code, SoccerHours username and password. The SoccerHours system has 2 categories of users, namely,\n",
    "\n",
    "1. admin &\n",
    "2. user\n",
    "\n",
    "The admin has several special priviledges such as adding new venues and adding new admins. The user can create and join events."
   ]
  },
  {
   "cell_type": "code",
   "execution_count": 26,
   "metadata": {},
   "outputs": [],
   "source": [
    "# Adds One New user by inserting into table 'users'\n",
    "\n",
    "def add_user(**userdata) :\n",
    "    \n",
    "    username=userdata['username']\n",
    "    firstname=userdata['firstname']\n",
    "    lastname=userdata['lastname']\n",
    "    email=userdata['email']\n",
    "    password=userdata['password']\n",
    "    zipcode=userdata['zipcode']\n",
    "    isadmin=userdata['isadmin']\n",
    "\n",
    "    if isadmin=='Y':\n",
    "        isadmin='A'\n",
    "    else:\n",
    "        isadmin='N'\n",
    "    \n",
    "    cursor.execute(''' INSERT INTO user VALUES((select seq from sqlite_sequence where name='user')+1,?,?,?,?,'A',?,?,?,?) ''',(firstname,lastname,username,isadmin,email,password,zipcode,datetime.datetime.now()))\n",
    "    db.commit()\n"
   ]
  },
  {
   "cell_type": "markdown",
   "metadata": {},
   "source": [
    "## Test Add_User"
   ]
  },
  {
   "cell_type": "code",
   "execution_count": 27,
   "metadata": {},
   "outputs": [
    {
     "name": "stdout",
     "output_type": "stream",
     "text": [
      "UserName:PythonBoy\n",
      "Username available, please proceed.\n",
      "First Name:Prajval\n",
      "Last Name:Gupta\n",
      "Email ID:prajvalgupta@python.com\n",
      "Unique email address, please proceed.\n",
      "Password:········\n",
      "Confirm Password:········\n",
      "Default Zip Code:78751\n",
      "Is this an Admin user? (Y/N): Y\n"
     ]
    }
   ],
   "source": [
    "userdata=dict()\n",
    "userdata['username']=input(\"UserName:\")\n",
    "\n",
    "s=dup_username_check(userdata['username'])\n",
    "while(s==False):\n",
    "    userdata['username']=input(\"Re-enter New UserName:\")\n",
    "    s=dup_username_check(userdata['username'])\n",
    "\n",
    "userdata['firstname']=input(\"First Name:\")\n",
    "userdata['lastname']=input(\"Last Name:\")\n",
    "userdata['email']=input(\"Email ID:\")\n",
    "s=dup_email_check(userdata['email'])\n",
    "\n",
    "while s==False:\n",
    "    userdata['email']=input(\"New Email ID:\")\n",
    "    s=dup_email_check(userdata['email'])\n",
    "\n",
    "userdata['password']=getpass.getpass(\"Password:\")\n",
    "cpassword=getpass.getpass(\"Confirm Password:\")\n",
    "while(cpassword!=userdata['password']):\n",
    "    print(\"Passwords do not match\")\n",
    "    userdata['password']=getpass.getpass(\"Password:\")\n",
    "    cpassword=getpass.getpass(\"Confirm Password:\")\n",
    "\n",
    "userdata['zipcode']=input(\"Default Zip Code:\")\n",
    "userdata['isadmin']=input(\"Is this an Admin user? (Y/N): \")\n",
    "add_user(**userdata)\n",
    "    "
   ]
  },
  {
   "cell_type": "markdown",
   "metadata": {},
   "source": [
    "## 2. Add New Venue\n",
    "\n",
    "This function adds a venue to the SoccerHours Database. The database stores a venue's name, it's address, ZIP code and a brief description of the venue.\n"
   ]
  },
  {
   "cell_type": "code",
   "execution_count": 28,
   "metadata": {},
   "outputs": [],
   "source": [
    "# Adds One New Venue by inserting into table 'venue'\n",
    "\n",
    "def add_venue(**venuedata) :\n",
    "    \n",
    "    venuename=venuedata['venuename']\n",
    "    venuedesc=venuedata['venuedesc']\n",
    "    venueaddr=venuedata['venueaddr']\n",
    "    zipcode=venuedata['zipcode']\n",
    "    \n",
    "    # duplicate venue check\n",
    "\n",
    "    # Inserts into venue\n",
    "    cursor.execute(''' INSERT INTO venue VALUES((Select seq+1 from sqlite_sequence where name='venue'),?,?,?,?) ''',(venuename,venuedesc,venueaddr,zipcode))\n",
    "\n",
    "    db.commit()\n"
   ]
  },
  {
   "cell_type": "markdown",
   "metadata": {},
   "source": [
    "## Test Add_Venue"
   ]
  },
  {
   "cell_type": "code",
   "execution_count": 29,
   "metadata": {},
   "outputs": [
    {
     "name": "stdout",
     "output_type": "stream",
     "text": [
      "Venue Short Name:Zilks\n",
      "Zip Code:78701\n",
      "Venue Description:Zilker Park\n",
      "Address:Nadi kinare\n"
     ]
    }
   ],
   "source": [
    "venuedata=dict()\n",
    "venuedata['venuename']=input(\"Venue Short Name:\")\n",
    "venuedata['zipcode']=input(\"Zip Code:\")\n",
    "\n",
    "while (dup_venue_check(venuedata['venuename'], int(venuedata['zipcode'])) != True):\n",
    "    venuedata['venuename']=input(\"New Venue's Short Name:\")\n",
    "    venuedata['zipcode']=input(\"New Venue's Zip Code:\")\n",
    "\n",
    "venuedata['venuedesc']=input(\"Venue Description:\")\n",
    "venuedata['venueaddr']=input(\"Address:\")\n",
    "add_venue(**venuedata)"
   ]
  },
  {
   "cell_type": "markdown",
   "metadata": {},
   "source": [
    "## 3. Start an Event\n",
    "\n",
    "This function adds an event into SoccerHours database in Active status with 1 member added. A user who creates an event is added to that event. The database stores the event's name, timings, venue, capacity, gender options (Male only, Female only, Co-ed)and the maximum number of participants.\n",
    "\n",
    "This function also checks existing events to avoid overlap."
   ]
  },
  {
   "cell_type": "code",
   "execution_count": 30,
   "metadata": {},
   "outputs": [],
   "source": [
    "# Adds the New Event by inserting into table 'events'\n",
    "\n",
    "def start_event(**eventdata) :\n",
    "    \n",
    "    venueid=eventdata['venueid']    \n",
    "    userid=eventdata['userid'] \n",
    "    eventname=eventdata['eventname']\n",
    "    eventdesc=eventdata['eventdesc']\n",
    "    eventdate=eventdata['eventdate']\n",
    "    starttime=eventdata['starttime']\n",
    "    endtime=eventdata['endtime']\n",
    "    eventcapacity=eventdata['eventcapacity']\n",
    "    genderoption=eventdata['genderoption']\n",
    "    if(check_start_end_time(starttime,'S') and check_start_end_time(endtime,'E')):\n",
    "        # Derive slots from StartTime, EndTime\n",
    "        slotids=get_slot_ids(int(starttime),int(endtime))\n",
    "    else:\n",
    "        print(\"\\nInvalid timings entered. Venue not booked.\\n\\nValid values are : \\nRange of 8 - 20 for Start time\\nRange of 9 - 21 for End time\")\n",
    "        return\n",
    "    \n",
    "    if(isinstance(slotids,list)):\n",
    "        slots=\",\".join(map(str,slotids))\n",
    "    else:\n",
    "        slots=str(slotids)\n",
    "\n",
    "    cursor.execute(''' Select seq+1 from sqlite_sequence where name='events' ''')    \n",
    "    eventid=cursor.fetchone()[0]\n",
    "    \n",
    "    datestatus=check_valid_date(eventdate)\n",
    "    if(datestatus=='G' or datestatus=='T'):\n",
    "        if(datestatus=='T' and ~check_valid_time_today(starttime)):\n",
    "            print(\"For today time(Hour) needs to be greater than now. Please retry.\")\n",
    "            return\n",
    "        else:    \n",
    "            # Check if entries exist in Slots\n",
    "            slotspresent = check_venue_slots(venueid, eventdate)\n",
    "            print(slotspresent)\n",
    "            if slotspresent=='N':\n",
    "                print(\"Inserting...\")\n",
    "                for i in range(13):\n",
    "                    cursor.execute(''' INSERT INTO slots VALUES(?+1,CAST(? as INTEGER),?,'A') ''',(i,venueid,eventdate))       \n",
    "            if(check_slots_booked(venueid, eventdate, slotids)):\n",
    "                print(\"The entered slot(s) are already booked.\")\n",
    "                return\n",
    "            for i in slotids:\n",
    "                cursor.execute(''' Update slots set availability='U' where venue_id=? and slot_id=? ''',(venueid,i))\n",
    "\n",
    "            cursor.execute(''' INSERT INTO events(pk_event_id,event_name,event_desc,event_date,start_time,end_time,user_id,venue_id,event_capacity,event_status,members_joined,slots,gender_option) VALUES(?,?,?,?,?,?,?,?,?,'A',1,?,?) ''',(eventid,eventname,eventdesc,eventdate,starttime,endtime,userid,venueid,eventcapacity,slots,genderoption))\n",
    "            # Insert entry in event_members\n",
    "            cursor.execute(''' INSERT INTO event_members VALUES(?,?) ''',(eventid,userid))\n",
    "            print(\"Slots booked for time:\",starttime,\":00  to \",endtime,\":00  on date:\",eventdate,\" for Venue ID:\",venueid)\n",
    "\n",
    "    else:\n",
    "        print(\"The provided date has passed. Unable to book event for past date.\")\n",
    "    \n",
    "    db.commit()"
   ]
  },
  {
   "cell_type": "markdown",
   "metadata": {},
   "source": [
    "## Test Start_Event"
   ]
  },
  {
   "cell_type": "code",
   "execution_count": 31,
   "metadata": {},
   "outputs": [
    {
     "name": "stdout",
     "output_type": "stream",
     "text": [
      "Event Name:soccer party\n",
      "Event Description:come on lets play soccer\n",
      "Event Date(YYYY-MM-DD):2019-08-01\n",
      "Start Time (Hour in 24-hr format):10\n",
      "End Time (Hour in 24-hr format):12\n",
      "Venue ID:201\n",
      "Total Event Capacity:16\n",
      "Gender Option:C\n",
      "User ID:101\n",
      "N\n",
      "Inserting...\n",
      "Slots booked for time: 10 :00  to  12 :00  on date: 2019-08-01  for Venue ID: 201\n"
     ]
    }
   ],
   "source": [
    "eventdata=dict()\n",
    "eventdata['eventname']=input(\"Event Name:\")\n",
    "eventdata['eventdesc']=input(\"Event Description:\")\n",
    "eventdata['eventdate']=input(\"Event Date(YYYY-MM-DD):\")\n",
    "eventdata['starttime']=input(\"Start Time (Hour in 24-hr format):\")\n",
    "eventdata['endtime']=input(\"End Time (Hour in 24-hr format):\")\n",
    "eventdata['venueid']=input(\"Venue ID:\")\n",
    "eventdata['eventcapacity']=input(\"Total Event Capacity:\")\n",
    "eventdata['genderoption']=input(\"Gender Option:\")\n",
    "eventdata['userid']=input(\"User ID:\")\n",
    "\n",
    "#eventdata = {'eventname':'Zilker-Footy', 'eventdesc': 'A friendly between UT Grads', 'eventdate': '2019-07-21', 'starttime':8, 'endtime': 10, 'venueid': 202,'eventcapacity': 4, 'genderoption': 'C', 'userid':101}\n",
    "\n",
    "start_event(**eventdata)"
   ]
  },
  {
   "cell_type": "markdown",
   "metadata": {},
   "source": [
    "# 4. Display timeslot availability at a venue\n",
    "\n",
    "This function displays slots available to book for an event at a venue."
   ]
  },
  {
   "cell_type": "code",
   "execution_count": 32,
   "metadata": {},
   "outputs": [],
   "source": [
    "# Display timeslot availability at a selected venue\n",
    "\n",
    "def display_available_slots(venueid,availdate) :\n",
    "    \n",
    "    if check_valid_venue(venueid) is False:\n",
    "        print(\"Invalid VenueID.\")\n",
    "        return\n",
    "    \n",
    "\n",
    "    cursor.execute(''' select 1 from slots where venue_id=? and date=? ''', (venueid,availdate))\n",
    "    status=cursor.fetchone()\n",
    "    print(\"Slots available for date - \",availdate,\" :\\n\\nStart-Time\")\n",
    "    if (status==None):\n",
    "        starttimes=(i for i in range(8,21))\n",
    "        for starttime in starttimes:\n",
    "            print(str(starttime)+\":00\")\n",
    "    else:\n",
    "        cursor.execute('''SELECT start_time FROM timeslots t JOIN slots s ON t.slot_id=s.slot_id WHERE s.venue_id=? AND s.date=?  AND s.availability=\\'A\\' ''',(venueid,availdate))\n",
    "        starttimes = cursor.fetchall()\n",
    "        for starttime in starttimes:\n",
    "            print(str(starttime[0])+\":00\")\n"
   ]
  },
  {
   "cell_type": "markdown",
   "metadata": {},
   "source": [
    "# Test timeslot availability at a venue"
   ]
  },
  {
   "cell_type": "code",
   "execution_count": 33,
   "metadata": {},
   "outputs": [
    {
     "name": "stdout",
     "output_type": "stream",
     "text": [
      "Enter VenueID:201\n",
      "Enter Date to check availability(YYYY-MM-DD):2019-08-01\n",
      "Slots available for date -  2019-08-01  :\n",
      "\n",
      "Start-Time\n",
      "8:00\n",
      "9:00\n",
      "12:00\n",
      "13:00\n",
      "14:00\n",
      "15:00\n",
      "16:00\n",
      "17:00\n",
      "18:00\n",
      "19:00\n",
      "20:00\n"
     ]
    }
   ],
   "source": [
    "venueid=input(\"Enter VenueID:\")\n",
    "availdate=input(\"Enter Date to check availability(YYYY-MM-DD):\")\n",
    "\n",
    "display_available_slots(venueid,availdate)"
   ]
  },
  {
   "cell_type": "markdown",
   "metadata": {},
   "source": [
    "## 5. Display all venues where particular time slot is available\n",
    "\n",
    "This function displays all venues available for booking on a particular date and time"
   ]
  },
  {
   "cell_type": "code",
   "execution_count": 46,
   "metadata": {},
   "outputs": [],
   "source": [
    "# Selects venues where a certain time slot is available\n",
    "\n",
    "def display_venues_for_slot(starttime, endtime, date) :\n",
    "\n",
    "    if(check_start_end_time(starttime,'S') and check_start_end_time(endtime,'E')):\n",
    "    # Derive slots from StartTime, EndTime\n",
    "        slotids=get_slot_ids(int(starttime),int(endtime))\n",
    "    else:\n",
    "        print(\"\\nInvalid timings entered. Venue not booked.\\n\\nValid values are : \\nRange of 8 - 20 for Start time\\nRange of 9 - 21 for End time\")\n",
    "        return\n",
    "    \n",
    "    print (\"\\n\\nThe Venues that have %s => %s Slots available:\" % (starttime, endtime))\n",
    "\n",
    "    qmark= \"?\"\n",
    "    if isinstance(slotids,list):\n",
    "        qmarks= \",\".join(qmark for slotid in slotids)\n",
    "    else:\n",
    "        qmarks=qmark\n",
    "\n",
    "    selectNonEventsquery = \"SELECT distinct s.venue_id, v.venue_name from slots s join venue v on v.pk_venue_id=s.venue_id where venue_id not in (SELECT distinct venue_id from slots where availability ='U' and slot_id in ({0}) and date='{1}') UNION SELECT distinct v.pk_venue_id, v.venue_name from venue v where pk_venue_id not in (SELECT venue_id from slots)\".format(qmarks,date)\n",
    "    slotids=list(str(slotids))\n",
    "    cursor.execute(selectNonEventsquery, slotids)\n",
    "    venuesforslot=cursor.fetchall()\n",
    "        \n",
    "    return venuesforslot"
   ]
  },
  {
   "cell_type": "markdown",
   "metadata": {},
   "source": [
    "## Test Display_Venues_For_Slot"
   ]
  },
  {
   "cell_type": "code",
   "execution_count": 48,
   "metadata": {},
   "outputs": [
    {
     "name": "stdout",
     "output_type": "stream",
     "text": [
      "Start Time (Hour of the day):11\n",
      "End Time (Hour of the day):12\n",
      "Enter the date(YYYY-MM-DD):2019-08-01\n",
      "\n",
      "\n",
      "The Venues that have 11 => 12 Slots available:\n",
      "No venues available.\n"
     ]
    }
   ],
   "source": [
    "starttime=input(\"Start Time (Hour of the day):\")\n",
    "endtime=input(\"End Time (Hour of the day):\")\n",
    "date=input(\"Enter the date(YYYY-MM-DD):\")\n",
    "\n",
    "venues=display_venues_for_slot(int(starttime),int(endtime),date)\n",
    "if len(venues)==0:\n",
    "    print(\"No venues available.\")\n",
    "else:\n",
    "    for t in venues:\n",
    "        print(t[1])"
   ]
  },
  {
   "cell_type": "markdown",
   "metadata": {},
   "source": [
    "# 6. List events at a venue given date/time\n",
    "\n",
    "This function displays all booked events at a venue for selected date and time."
   ]
  },
  {
   "cell_type": "code",
   "execution_count": 60,
   "metadata": {},
   "outputs": [],
   "source": [
    "# Selects venues where a certain time slot is available\n",
    "\n",
    "def display_venue_events(venueid,eventdate,starttime,endtime) :\n",
    "\n",
    "    if check_valid_venue(venueid) is False:\n",
    "        print(\"Invalid VenueID.\")\n",
    "        return\n",
    "    \n",
    "    cursor.execute(''' SELECT event_name, start_time, end_time FROM events\n",
    "                        WHERE venue_id=? \n",
    "                        AND event_date=? \n",
    "                        AND start_time<?\n",
    "                        AND end_time>? ''',(venueid,eventdate,endtime,starttime))\n",
    "    \n",
    "    events=cursor.fetchall()\n",
    "    for event in events:\n",
    "        print(\"\\n\\nEvent Name:\",event[0],\"\\nEvent Timing:\",event[1], \": 00 to\",event[2],\":00\\n\",\"------------------------------------------\",\"\\n\")"
   ]
  },
  {
   "cell_type": "markdown",
   "metadata": {},
   "source": [
    "# Test list events at a venue given date/time"
   ]
  },
  {
   "cell_type": "code",
   "execution_count": 61,
   "metadata": {},
   "outputs": [
    {
     "name": "stdout",
     "output_type": "stream",
     "text": [
      "Enter VenueID of user:201\n",
      "Enter EventDate:2019-07-30\n",
      "Enter StartTime of event:8\n",
      "Enter EndTime of event:19\n",
      "(201,)\n",
      "\n",
      "\n",
      "Event Name: MSITM Friendly \n",
      "Event Timing: 10 : 00 to 13 :00\n",
      " ------------------------------------------ \n",
      "\n"
     ]
    }
   ],
   "source": [
    "venueid=input(\"Enter VenueID of user:\")\n",
    "eventdate=input(\"Enter EventDate:\")\n",
    "starttime=input(\"Enter StartTime of event:\")\n",
    "endtime=input(\"Enter EndTime of event:\")\n",
    "\n",
    "display_venue_events(venueid,eventdate,starttime,endtime)"
   ]
  },
  {
   "cell_type": "markdown",
   "metadata": {},
   "source": [
    "## 7. User Joins an Event\n",
    "\n",
    "This function adds a user to an event. The count of members participating in that event goes up by one."
   ]
  },
  {
   "cell_type": "code",
   "execution_count": 67,
   "metadata": {},
   "outputs": [],
   "source": [
    "# Updates tables when a user joins an event\n",
    "\n",
    "def user_joins_event(userid, eventid) :\n",
    "\n",
    "    if check_valid_user(userid) is False:\n",
    "        print(\"Invalid UserID.\")\n",
    "        return\n",
    "    if check_valid_event(eventid) is False:\n",
    "        print(\"Invalid EventID.\")\n",
    "        return\n",
    "    \n",
    "    cursor.execute(''' Select event_capacity, members_joined from events where pk_event_id=? ''', (eventid,))\n",
    "    eventroom=cursor.fetchone()\n",
    "\n",
    "    if eventroom[0]>eventroom[1]:\n",
    "        # Update Events table\n",
    "        cursor.execute(''' Update events set members_joined=members_joined+1 where pk_event_id=? ''', (eventid,))\n",
    "\n",
    "        # Update EventMembers table\n",
    "        cursor.execute(''' INSERT INTO event_members values (?,?) ''',(eventid, userid))\n",
    "        print(\"UserID: {0} has joined event: {1}\".format(userid,eventid))\n",
    "    else:\n",
    "        return \"Event is full\"\n",
    "    \n",
    "\n",
    "    db.commit()"
   ]
  },
  {
   "cell_type": "markdown",
   "metadata": {},
   "source": [
    "## Test User_Joins_Event"
   ]
  },
  {
   "cell_type": "code",
   "execution_count": 68,
   "metadata": {},
   "outputs": [
    {
     "name": "stdout",
     "output_type": "stream",
     "text": [
      "Enter UserID of user:102\n",
      "Enter EventID joined:301\n",
      "UserID: 102 has joined event: 301\n"
     ]
    }
   ],
   "source": [
    "userid=input(\"Enter UserID of user:\")\n",
    "eventid=input(\"Enter EventID joined:\")\n",
    "\n",
    "user_joins_event(userid,eventid)"
   ]
  },
  {
   "cell_type": "markdown",
   "metadata": {},
   "source": [
    "# 8. Remove an event (admin only)\n",
    "\n",
    "This function gives an admin rights to remove an event."
   ]
  },
  {
   "cell_type": "code",
   "execution_count": 69,
   "metadata": {},
   "outputs": [],
   "source": [
    "# Removes an event\n",
    "\n",
    "def deactivate_event(eventid,userid) :\n",
    "\n",
    "    cursor.execute('''SELECT admin_status FROM user WHERE pk_user_id=?''',(userid,)) \n",
    "    adminstatus=cursor.fetchone()\n",
    "    if adminstatus==('A',):\n",
    "\n",
    "        cursor.execute('''UPDATE events SET event_status='U' WHERE pk_event_id=?''',(eventid,))\n",
    "\n",
    "        cursor.execute(''' SELECT slots from events where pk_event_id= ? ''',(eventid,))\n",
    "        slotids=cursor.fetchone()[0]\n",
    "        slotlist=slotids.split(',')\n",
    "        # Conversion to integers\n",
    "        int_slotlist = [int(i) for i in slotlist] \n",
    "        \n",
    "        qmark= \"?\"\n",
    "        if isinstance(slotlist,list):\n",
    "            qmarks= \",\".join(qmark for slotid in slotlist)\n",
    "        else:\n",
    "            qmarks=qmark\n",
    "\n",
    "        query = \"UPDATE slots SET availability=\\'A\\' WHERE venue_id=(SELECT venue_id FROM  events WHERE pk_event_id={0}) AND date = (SELECT event_date FROM events WHERE pk_event_id={1}) AND slot_id IN ({2})\".format(eventid,eventid,qmarks)\n",
    "        cursor.execute(query,int_slotlist)\n",
    "\n",
    "        cursor.execute('''DELETE FROM event_members WHERE event_id=?''',(eventid,))\n",
    "        print(\"\\nEvent with ID: {0} has been removed by User ID: {1}\".format(eventid,userid))\n",
    "\n",
    "    else:\n",
    "        print(\"\\nUser is not an admin. Only admin users are allowed to remove an event.\")\n",
    "\n",
    "    db.commit()\n",
    "    "
   ]
  },
  {
   "cell_type": "markdown",
   "metadata": {},
   "source": [
    "# Test remove an event (admin only)"
   ]
  },
  {
   "cell_type": "code",
   "execution_count": 70,
   "metadata": {},
   "outputs": [
    {
     "name": "stdout",
     "output_type": "stream",
     "text": [
      "Enter EventID joined:301\n",
      "Enter UserID of user:101\n",
      "\n",
      "Event with ID: 301 has been removed by User ID: 101\n"
     ]
    }
   ],
   "source": [
    "eventid=input(\"Enter EventID joined:\")\n",
    "userid=input(\"Enter UserID of user:\")\n",
    "\n",
    "deactivate_event(eventid,userid)"
   ]
  },
  {
   "cell_type": "code",
   "execution_count": 71,
   "metadata": {},
   "outputs": [],
   "source": [
    "db.close()"
   ]
  },
  {
   "cell_type": "markdown",
   "metadata": {},
   "source": [
    "## Clean Up SQL Scripts"
   ]
  },
  {
   "cell_type": "code",
   "execution_count": 1,
   "metadata": {},
   "outputs": [],
   "source": [
    "# Import sqlite3 module\n",
    "import sqlite3\n",
    "\n",
    "# Connect to the soccerhours database\n",
    "db=sqlite3.connect(\"/Users/abhishekkardak/Downloads/APAD/project1/SoccerHours3.db\")\n",
    "cursor = db.cursor()"
   ]
  },
  {
   "cell_type": "code",
   "execution_count": 3,
   "metadata": {},
   "outputs": [
    {
     "ename": "OperationalError",
     "evalue": "no such table: events",
     "output_type": "error",
     "traceback": [
      "\u001b[0;31m---------------------------------------------------------------------------\u001b[0m",
      "\u001b[0;31mOperationalError\u001b[0m                          Traceback (most recent call last)",
      "\u001b[0;32m<ipython-input-3-ea1daaa598cb>\u001b[0m in \u001b[0;36m<module>\u001b[0;34m\u001b[0m\n\u001b[1;32m      1\u001b[0m \u001b[0;31m# cursor.execute('''DELETE FROM event_members ''')\u001b[0m\u001b[0;34m\u001b[0m\u001b[0;34m\u001b[0m\u001b[0;34m\u001b[0m\u001b[0m\n\u001b[0;32m----> 2\u001b[0;31m \u001b[0mcursor\u001b[0m\u001b[0;34m.\u001b[0m\u001b[0mexecute\u001b[0m\u001b[0;34m(\u001b[0m\u001b[0;34m'''DELETE FROM events '''\u001b[0m\u001b[0;34m)\u001b[0m\u001b[0;34m\u001b[0m\u001b[0;34m\u001b[0m\u001b[0m\n\u001b[0m\u001b[1;32m      3\u001b[0m \u001b[0mcursor\u001b[0m\u001b[0;34m.\u001b[0m\u001b[0mexecute\u001b[0m\u001b[0;34m(\u001b[0m\u001b[0;34m'''DELETE FROM timeslots '''\u001b[0m\u001b[0;34m)\u001b[0m\u001b[0;34m\u001b[0m\u001b[0;34m\u001b[0m\u001b[0m\n\u001b[1;32m      4\u001b[0m \u001b[0mcursor\u001b[0m\u001b[0;34m.\u001b[0m\u001b[0mexecute\u001b[0m\u001b[0;34m(\u001b[0m\u001b[0;34m'''DELETE FROM slots '''\u001b[0m\u001b[0;34m)\u001b[0m\u001b[0;34m\u001b[0m\u001b[0;34m\u001b[0m\u001b[0m\n\u001b[1;32m      5\u001b[0m \u001b[0mcursor\u001b[0m\u001b[0;34m.\u001b[0m\u001b[0mexecute\u001b[0m\u001b[0;34m(\u001b[0m\u001b[0;34m'''DELETE FROM venue '''\u001b[0m\u001b[0;34m)\u001b[0m\u001b[0;34m\u001b[0m\u001b[0;34m\u001b[0m\u001b[0m\n",
      "\u001b[0;31mOperationalError\u001b[0m: no such table: events"
     ]
    }
   ],
   "source": [
    "# cursor.execute('''DELETE FROM event_members ''')\n",
    "cursor.execute('''DELETE FROM events ''')\n",
    "cursor.execute('''DELETE FROM timeslots ''')\n",
    "cursor.execute('''DELETE FROM slots ''')\n",
    "cursor.execute('''DELETE FROM venue ''')\n",
    "cursor.execute('''DELETE FROM user ''')\n",
    "cursor.execute('''DELETE FROM sqlite_sequence ''')\n",
    "\n",
    "db.commit()"
   ]
  },
  {
   "cell_type": "code",
   "execution_count": 5,
   "metadata": {},
   "outputs": [],
   "source": [
    "cursor.execute('''DROP TABLE event_members ''')\n",
    "cursor.execute('''DROP TABLE events ''')\n",
    "cursor.execute('''DROP TABLE timeslots ''')\n",
    "cursor.execute('''DROP TABLE slots ''')\n",
    "cursor.execute('''DROP TABLE venue ''')\n",
    "cursor.execute('''DROP TABLE user ''')\n",
    "\n",
    "db.commit()"
   ]
  }
 ],
 "metadata": {
  "kernelspec": {
   "display_name": "Python 3",
   "language": "python",
   "name": "python3"
  },
  "language_info": {
   "codemirror_mode": {
    "name": "ipython",
    "version": 3
   },
   "file_extension": ".py",
   "mimetype": "text/x-python",
   "name": "python",
   "nbconvert_exporter": "python",
   "pygments_lexer": "ipython3",
   "version": "3.7.3"
  }
 },
 "nbformat": 4,
 "nbformat_minor": 2
}
