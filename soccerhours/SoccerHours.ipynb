{
 "cells": [
  {
   "cell_type": "markdown",
   "metadata": {},
   "source": [
    "# Soccer Hours\n"
   ]
  },
  {
   "cell_type": "markdown",
   "metadata": {},
   "source": [
    "## Setting up Database using Python"
   ]
  },
  {
   "cell_type": "code",
   "execution_count": 318,
   "metadata": {},
   "outputs": [],
   "source": [
    "# Import sqlite3 module\n",
    "import sqlite3\n",
    "\n",
    "# Connect to the soccerhours database\n",
    "db=sqlite3.connect(\"/Users/subhayuchakravarty/sqlite/db/soccerhours2.db\")\n",
    "cursor = db.cursor()\n"
   ]
  },
  {
   "cell_type": "code",
   "execution_count": 377,
   "metadata": {},
   "outputs": [],
   "source": [
    "def get_slot_ids(starttime, endtime):\n",
    "    diff = endtime - starttime\n",
    "    slotstarts=starttime\n",
    "    slotids = list()\n",
    "    cursor.execute(''' SELECT slot_id from timeslots where start_time= ? ''',(starttime,))\n",
    "    slotids.append(cursor.fetchone()[0])\n",
    "    \n",
    "    if diff>1:\n",
    "        for i in range(diff-1): \n",
    "            slotids.append(slotids[i]+1)\n",
    "        return slotids    \n",
    "    else:\n",
    "        return slotids[0]"
   ]
  },
  {
   "cell_type": "code",
   "execution_count": 6,
   "metadata": {},
   "outputs": [
    {
     "data": {
      "text/plain": [
       "<sqlite3.Cursor at 0x108b1bf80>"
      ]
     },
     "execution_count": 6,
     "metadata": {},
     "output_type": "execute_result"
    }
   ],
   "source": [
    "cursor.execute(''' drop table event_members ''')"
   ]
  },
  {
   "cell_type": "code",
   "execution_count": 7,
   "metadata": {},
   "outputs": [
    {
     "data": {
      "text/plain": [
       "<sqlite3.Cursor at 0x108b1bf80>"
      ]
     },
     "execution_count": 7,
     "metadata": {},
     "output_type": "execute_result"
    }
   ],
   "source": [
    "# Create table Users - Stores User data\n",
    "cursor.execute('''\n",
    "CREATE TABLE user (\n",
    "    pk_user_id INTEGER PRIMARY KEY AUTOINCREMENT,\n",
    "    user_fname VARCHAR,\n",
    "    user_lname VARCHAR,\n",
    "    username VARCHAR NOT NULL,\n",
    "    admin_status VARCHAR NOT NULL,\n",
    "    user_status VARCHAR NOT NULL,\n",
    "    user_email VARCHAR NOT NULL,\n",
    "    user_password VARCHAR NOT NULL,\n",
    "    zip_code INTEGER NOT NULL,\n",
    "    date_added TIMESTAMP NOT NULL\n",
    ")\n",
    "''')\n"
   ]
  },
  {
   "cell_type": "code",
   "execution_count": 315,
   "metadata": {},
   "outputs": [
    {
     "data": {
      "text/plain": [
       "<sqlite3.Cursor at 0x10f9eac00>"
      ]
     },
     "execution_count": 315,
     "metadata": {},
     "output_type": "execute_result"
    }
   ],
   "source": [
    "# Create table Venues - Stores Venue data\n",
    "cursor.execute('''\n",
    "CREATE TABLE venue (\n",
    "    pk_venue_id INTEGER NOT NULL PRIMARY KEY AUTOINCREMENT,\n",
    "    venue_name VARCHAR NOT NULL,\n",
    "    venue_desc VARCHAR NOT NULL,\n",
    "    venue_st_addr VARCHAR NOT NULL,\n",
    "    venue_zip_code INTEGER NOT NULL\n",
    ")\n",
    "''')"
   ]
  },
  {
   "cell_type": "code",
   "execution_count": 36,
   "metadata": {},
   "outputs": [
    {
     "data": {
      "text/plain": [
       "<sqlite3.Cursor at 0x10f573880>"
      ]
     },
     "execution_count": 36,
     "metadata": {},
     "output_type": "execute_result"
    }
   ],
   "source": [
    "# Create table Venues - Stores Venue data\n",
    "cursor.execute('''\n",
    "CREATE TABLE events (\n",
    "    pk_event_id INTEGER PRIMARY KEY AUTOINCREMENT,\n",
    "    event_name VARCHAR NOT NULL,\n",
    "    event_desc VARCHAR NOT NULL,\n",
    "    event_date DATETIME NOT NULL,\n",
    "    start_time INTEGER NOT NULL,\n",
    "    end_time INTEGER NOT NULL,\n",
    "    fk_user_id INTEGER NOT NULL,    \n",
    "    fk_venue_id INTEGER NOT NULL,\n",
    "    event_capacity INTEGER NOT NULL,\n",
    "    event_status VARCHAR NOT NULL,\n",
    "    gender_option VARCHAR NOT NULL,\n",
    "    members_joined INTEGER NOT NULL,\n",
    "    slots VARCHAR NOT NULL,\n",
    "    FOREIGN KEY (fk_venue_id) REFERENCES venue(venue_id)\n",
    ")\n",
    "''')"
   ]
  },
  {
   "cell_type": "code",
   "execution_count": 176,
   "metadata": {},
   "outputs": [
    {
     "data": {
      "text/plain": [
       "<sqlite3.Cursor at 0x10f584f80>"
      ]
     },
     "execution_count": 176,
     "metadata": {},
     "output_type": "execute_result"
    }
   ],
   "source": [
    "# Create table Venues - Stores Venue data\n",
    "cursor.execute('''\n",
    "CREATE TABLE slots (\n",
    "    slot_id INTEGER NOT NULL,\n",
    "    fk_venue_id INTEGER NOT NULL,\n",
    "    date DATETIME NOT NULL,\n",
    "    availability VARCHAR NOT NULL,\n",
    "    FOREIGN KEY (fk_venue_id) REFERENCES venue(venue_id)\n",
    ")\n",
    "''')"
   ]
  },
  {
   "cell_type": "code",
   "execution_count": 11,
   "metadata": {},
   "outputs": [
    {
     "data": {
      "text/plain": [
       "<sqlite3.Cursor at 0x108b1bf80>"
      ]
     },
     "execution_count": 11,
     "metadata": {},
     "output_type": "execute_result"
    }
   ],
   "source": [
    "# Create table Venues - Stores Venue data\n",
    "cursor.execute('''\n",
    "CREATE TABLE event_members (\n",
    "    fk_event_id INTEGER NOT NULL,\n",
    "    fk_user_id INTEGER NOT NULL,\n",
    "    FOREIGN KEY (fk_event_id) REFERENCES events(event_id)\n",
    "    FOREIGN KEY (fk_user_id) REFERENCES user(pk_user_id)\n",
    ")\n",
    "''')"
   ]
  },
  {
   "cell_type": "code",
   "execution_count": null,
   "metadata": {},
   "outputs": [],
   "source": [
    "# Create Static table for Slot ID defintions\n",
    "cursor.execute('''\n",
    "CREATE TABLE timeslots (\n",
    "    start_time INTEGER NOT NULL,\n",
    "    slot_id INTEGER NOT NULL\n",
    ")\n",
    "''')\n",
    "\n",
    "cursor.execute('''\n",
    "INSERT INTO timeslots VALUES (8,1),(9,2),(10,3),(11,4),(12,5),(13,6),(14,7),(15,8),(16,9),(17,10),(18,11),(19,12),(20,13);\n",
    "''')\n",
    "db.commit()"
   ]
  },
  {
   "cell_type": "code",
   "execution_count": 13,
   "metadata": {},
   "outputs": [],
   "source": [
    "# Write a query to list the contents of the table media_types and execute it.\n",
    "# Your code goes here.\n",
    "\n",
    "cursor.execute('''SELECT * FROM user ''')\n",
    "all = cursor.fetchall()\n",
    "\n",
    "for pl in all:\n",
    "    print(pl)\n"
   ]
  },
  {
   "cell_type": "markdown",
   "metadata": {},
   "source": [
    "# Python Function Definitions"
   ]
  },
  {
   "cell_type": "markdown",
   "metadata": {},
   "source": [
    "## 1. Add New User\n",
    "\n",
    "Adds a user to the SoccerHours Database\n"
   ]
  },
  {
   "cell_type": "code",
   "execution_count": 59,
   "metadata": {},
   "outputs": [],
   "source": [
    "    cursor.execute(''' delete from user''')\n",
    "    cursor.execute(''' insert into sqlite_sequence values('user',0) ''')\n",
    "#     cursor.execute(''' delete from sqlite_sequence where name='user' ''')\n",
    "#    cursor.execute(''' update sqlite_sequence set seq=0 where name='user' ''')\n",
    "    db.commit()"
   ]
  },
  {
   "cell_type": "code",
   "execution_count": 60,
   "metadata": {},
   "outputs": [],
   "source": [
    "# Adds One New user by inserting into table 'users'\n",
    "\n",
    "def add_user(**userdata) :\n",
    "\n",
    "    #    cursor.execute(''' INSERT INTO users VALUES((select seq from sqlite_sequence)+1,'pgupta','Prajval','Gupta','A','A',78751,'prajval.gupta@gmail.com','abcd987600','2019-07-01 10:10:59') ''')\n",
    "    for key, value in userdata.items(): \n",
    "        print (\"%s = %s\" %(key, value))\n",
    "    \n",
    "    username=userdata['username']\n",
    "    firstname=userdata['firstname']\n",
    "    lastname=userdata['lastname']\n",
    "    email=userdata['email']\n",
    "    password=userdata['password']\n",
    "    zipcode=userdata['zipcode']\n",
    "    \n",
    "    #email duplication check\n",
    "    \n",
    "    cursor.execute(''' INSERT INTO user VALUES((select seq from sqlite_sequence where name='user')+1,?,?,?,'A','A',?,?,?,'2019-07-01 10:10:59') ''',(username,firstname,lastname,email,password,zipcode))\n",
    "    db.commit()\n"
   ]
  },
  {
   "cell_type": "code",
   "execution_count": 274,
   "metadata": {},
   "outputs": [],
   "source": [
    "# Adds Multiple New user by inserting into table 'users'\n",
    "\n",
    "def add_users(**userdata) :\n",
    "\n",
    "    #    cursor.execute(''' INSERT INTO users VALUES((select seq from sqlite_sequence)+1,'pgupta','Prajval','Gupta','A','A',78751,'prajval.gupta@gmail.com','abcd987600','2019-07-01 10:10:59') ''')\n",
    "    for key, value in userdata.items(): \n",
    "        print (\"%s = %s\" %(key, value))\n",
    "    \n",
    "    username=userdata['username']\n",
    "    firstname=userdata['firstname']\n",
    "    lastname=userdata['lastname']\n",
    "    email=userdata['email']\n",
    "    password=userdata['password']\n",
    "    zipcode=userdata['zipcode']\n",
    "    \n",
    "    \n",
    "    cursor.execute(''' INSERT INTO users VALUES((select seq from sqlite_sequence)+1,?,?,?,'A','A',?,?,?,?) ''',(username,firstname,lastname,email,password,zipcode,date('now')))\n",
    "    db.commit()\n",
    "\n"
   ]
  },
  {
   "cell_type": "markdown",
   "metadata": {},
   "source": [
    "## Test Add_User"
   ]
  },
  {
   "cell_type": "code",
   "execution_count": 275,
   "metadata": {},
   "outputs": [
    {
     "name": "stdout",
     "output_type": "stream",
     "text": [
      "username = pgupta\n",
      "firstname = Prajval\n",
      "lastname = Gupta\n",
      "email = pgupta@gmail.com\n",
      "password = 222jhjkhsoeed\n",
      "zipcode = 78751\n"
     ]
    }
   ],
   "source": [
    "userdata = {'username':'pgupta', 'firstname': 'Prajval', 'lastname': 'Gupta', 'email': 'pgupta@gmail.com', 'password':'222jhjkhsoeed', 'zipcode':78751}\n",
    "\n",
    "add_user(**userdata)"
   ]
  },
  {
   "cell_type": "code",
   "execution_count": 21,
   "metadata": {},
   "outputs": [],
   "source": [
    "db.close()"
   ]
  },
  {
   "cell_type": "code",
   "execution_count": 124,
   "metadata": {},
   "outputs": [],
   "source": [
    "# Connect to the soccerhours database\n",
    "db=sqlite3.connect(\"/Users/subhayuchakravarty/sqlite/db/soccerhours.db\")\n",
    "cursor = db.cursor()\n",
    "\n",
    "\n"
   ]
  },
  {
   "cell_type": "code",
   "execution_count": null,
   "metadata": {},
   "outputs": [],
   "source": []
  },
  {
   "cell_type": "code",
   "execution_count": null,
   "metadata": {},
   "outputs": [],
   "source": []
  },
  {
   "cell_type": "markdown",
   "metadata": {},
   "source": [
    "## 2. Add New Venue\n",
    "\n",
    "Adds a user to the SoccerHours Database\n"
   ]
  },
  {
   "cell_type": "code",
   "execution_count": 316,
   "metadata": {},
   "outputs": [],
   "source": [
    "    cursor.execute(''' delete from venue''')\n",
    "    cursor.execute(''' delete from slots''')\n",
    "    cursor.execute(''' delete from sqlite_sequence where name='venue' ''')    \n",
    "    cursor.execute(''' insert into sqlite_sequence values('venue',0) ''')\n",
    "    db.commit()"
   ]
  },
  {
   "cell_type": "code",
   "execution_count": 311,
   "metadata": {},
   "outputs": [],
   "source": [
    "# Adds One New Venue by inserting into table 'venue'\n",
    "\n",
    "def add_venue(**venuedata) :\n",
    "\n",
    "    #    cursor.execute(''' INSERT INTO users VALUES((select seq from sqlite_sequence)+1,'pgupta','Prajval','Gupta','A','A',78751,'prajval.gupta@gmail.com','abcd987600','2019-07-01 10:10:59') ''')\n",
    "    for key, value in venuedata.items(): \n",
    "        print (\"%s = %s\" %(key, value))\n",
    "    \n",
    "    venuename=venuedata['venuename']\n",
    "    venuedesc=venuedata['venuedesc']\n",
    "    venueaddr=venuedata['venueaddr']\n",
    "    zipcode=venuedata['zipcode']\n",
    "\n",
    "#     cursor.execute(''' Select seq+1 from sqlite_sequence where name='venue' ''')\n",
    "#     venueid=cursor.fetchone()[0]\n",
    "    \n",
    "    \n",
    "    # duplicate venue check\n",
    "\n",
    "    # Inserts into venue\n",
    "    cursor.execute(''' INSERT INTO venue VALUES((Select seq+1 from sqlite_sequence where name='venue'),?,?,?,?) ''',(venuename,venuedesc,venueaddr,zipcode))\n",
    "\n",
    "    \n",
    "    # Inserts into Slots table - assuming all slots available\n",
    "    #for i in range(13):\n",
    "    #   cursor.execute(''' INSERT INTO slots VALUES(?+1,CAST(? as INTEGER),'A') ''',(i,venueid))\n",
    "    \n",
    "    db.commit()\n",
    "\n",
    "\n"
   ]
  },
  {
   "cell_type": "code",
   "execution_count": 306,
   "metadata": {},
   "outputs": [],
   "source": [
    "db.close()"
   ]
  },
  {
   "cell_type": "markdown",
   "metadata": {},
   "source": [
    "## Test Add_Venue"
   ]
  },
  {
   "cell_type": "code",
   "execution_count": 321,
   "metadata": {},
   "outputs": [
    {
     "name": "stdout",
     "output_type": "stream",
     "text": [
      "venuename = Charles Alan Wright Field_1\n",
      "venuedesc = UT Intramural grounds\n",
      "venueaddr = UT Austin\n",
      "zipcode = 78712\n"
     ]
    }
   ],
   "source": [
    "venuedata = {'venuename':'Charles Alan Wright Field_1', 'venuedesc': 'UT Intramural grounds', 'venueaddr': 'UT Austin', 'zipcode':78712}\n",
    "\n",
    "add_venue(**venuedata)"
   ]
  },
  {
   "cell_type": "code",
   "execution_count": null,
   "metadata": {},
   "outputs": [],
   "source": []
  },
  {
   "cell_type": "markdown",
   "metadata": {},
   "source": [
    "## 3. Start an Event\n",
    "\n",
    "Adds an event into soccerhours database in Active status with 1 member added"
   ]
  },
  {
   "cell_type": "code",
   "execution_count": 317,
   "metadata": {
    "scrolled": true
   },
   "outputs": [],
   "source": [
    "    cursor.execute(''' delete from events''')\n",
    "    cursor.execute(''' delete from event_members''')    \n",
    "    cursor.execute(''' delete from slots''')    \n",
    "    cursor.execute(''' insert into sqlite_sequence values('events',0) ''')\n",
    "    db.commit()\n",
    "    "
   ]
  },
  {
   "cell_type": "code",
   "execution_count": 322,
   "metadata": {},
   "outputs": [],
   "source": [
    "# Adds the New Event by inserting into table 'events'\n",
    "\n",
    "def start_event(**eventdata) :\n",
    "\n",
    "    #    cursor.execute(''' INSERT INTO users VALUES((select seq from sqlite_sequence)+1,'pgupta','Prajval','Gupta','A','A',78751,'prajval.gupta@gmail.com','abcd987600','2019-07-01 10:10:59') ''')\n",
    "    for key, value in eventdata.items(): \n",
    "        print (\"%s = %s\" %(key, value))\n",
    "    \n",
    "    venueid=eventdata['venueid']    \n",
    "    userid=eventdata['userid'] \n",
    "    eventname=eventdata['eventname']\n",
    "    eventdesc=eventdata['eventdesc']\n",
    "    eventdate=eventdata['eventdate']\n",
    "    starttime=eventdata['starttime']\n",
    "    endtime=eventdata['endtime']\n",
    "    eventcapacity=eventdata['eventcapacity']\n",
    "    genderoption=eventdata['genderoption']\n",
    "    slots=eventdata['slots'].split(',')\n",
    "    cursor.execute(''' Select seq+1 from sqlite_sequence where name='events' ''')    \n",
    "    eventid=cursor.fetchone()[0]\n",
    "    \n",
    "        \n",
    "    # Check if valid user ()\n",
    "    # If today, check if start time later than current time\n",
    "    \n",
    "    cursor.execute(''' INSERT INTO events(pk_event_id,event_name,event_desc,event_date,start_time,end_time,fk_user_id,fk_venue_id,event_capacity,event_status,members_joined,slots,gender_option) VALUES(?,?,?,?,?,?,?,?,?,'A',1,?,?) ''',(eventid,eventname,eventdesc,eventdate,starttime,endtime,userid,venueid,eventcapacity,eventdata['slots'],genderoption))\n",
    "\n",
    "    # Insert entry in event_members\n",
    "    cursor.execute(''' INSERT INTO event_members VALUES(?,?) ''',(eventid,userid))\n",
    "    \n",
    "    # Check if entries exist in Slots\n",
    "    slotspresent = check_venue_slots(venueid, eventdate)\n",
    "    if ~slotspresent:\n",
    "        for i in range(13):\n",
    "            cursor.execute(''' INSERT INTO slots VALUES(?+1,CAST(? as INTEGER),?,'A') ''',(i,venueid,eventdate))\n",
    "\n",
    "    # Update slots to show unavailable\n",
    "    # https://stackoverflow.com/questions/283645/python-list-in-sql-query-as-parameter\n",
    "#     qmark= '?'\n",
    "#     qmarks= ', '.join(qmark for slotids in slots)\n",
    "# ' Update slots set availability='U' where fk_venue_id=? and slot_id in (%s) ' % qmarks\n",
    "    for i in slots:\n",
    "        cursor.execute(''' Update slots set availability='U' where fk_venue_id=? and slot_id=? ''',(venueid,i))\n",
    "        \n",
    "    db.commit()"
   ]
  },
  {
   "cell_type": "code",
   "execution_count": 323,
   "metadata": {},
   "outputs": [],
   "source": [
    "def check_venue_slots(venueid, eventdate):\n",
    "    cursor.execute(''' Select 1 from slots where fk_venue_id=? and date=? ''',(venueid,eventdate))\n",
    "    return bool(cursor.fetchone())\n",
    "    "
   ]
  },
  {
   "cell_type": "markdown",
   "metadata": {},
   "source": [
    "## Test Start_Event"
   ]
  },
  {
   "cell_type": "code",
   "execution_count": 325,
   "metadata": {},
   "outputs": [
    {
     "name": "stdout",
     "output_type": "stream",
     "text": [
      "eventname = Footy@Clarks-Event1\n",
      "eventdesc = A friendly between Google and Dell\n",
      "eventdate = 2019-07-20\n",
      "starttime = 10\n",
      "endtime = 12\n",
      "venueid = 1\n",
      "eventcapacity = 10\n",
      "genderoption = M\n",
      "slots = 2,3\n",
      "userid = 3\n"
     ]
    }
   ],
   "source": [
    "eventdata = {'eventname':'Footy@Clarks-Event1', 'eventdesc': 'A friendly between Google and Dell', 'eventdate': '2019-07-20', 'starttime':10, 'endtime': 12, 'venueid': 1,'eventcapacity': 10, 'genderoption': 'M', 'slots': '2,3', 'userid':3}\n",
    "\n",
    "start_event(**eventdata)"
   ]
  },
  {
   "cell_type": "code",
   "execution_count": 313,
   "metadata": {},
   "outputs": [],
   "source": [
    "db.close()"
   ]
  },
  {
   "cell_type": "code",
   "execution_count": null,
   "metadata": {},
   "outputs": [],
   "source": []
  },
  {
   "cell_type": "markdown",
   "metadata": {},
   "source": [
    "## 5. Display all venues where particular time slot is available\n",
    "\n",
    "Selects all the venues for a particular chosen time slot"
   ]
  },
  {
   "cell_type": "code",
   "execution_count": 480,
   "metadata": {},
   "outputs": [],
   "source": [
    "# Selects venues where a certain time slot is available\n",
    "\n",
    "def display_venues_for_slot(starttime, endtime, date) :\n",
    "\n",
    "    slotids=get_slot_ids(starttime, endtime)\n",
    "    \n",
    "    print (\"%s => %s\" % (starttime, endtime))\n",
    "    print(slotids)\n",
    "    \n",
    "    qmark= '?'\n",
    "    if isinstance(slotids,list):\n",
    "        qmarks= ', '.join(qmark for slotid in slotids)\n",
    "    else:\n",
    "        qmarks=qmark\n",
    "    \n",
    "    selectquery = \"SELECT distinct s.fk_venue_id, v.venue_name from slots s join venue v on v.pk_venue_id=s.fk_venue_id where fk_venue_id not in (SELECT  fk_venue_id from slots where availability ='U' and slot_id in ({0}) and date={1}) UNION SELECT distinct v.pk_venue_id, v.venue_name from venue v where pk_venue_id not in (SELECT fk_venue_id from slots)\".format(qmarks,date)\n",
    "    cursor.execute(selectquery, slotids)\n",
    "    venuesforslot=cursor.fetchall()\n",
    "    for t in venuesforslot:\n",
    "        print(t)"
   ]
  },
  {
   "cell_type": "code",
   "execution_count": 484,
   "metadata": {},
   "outputs": [
    {
     "name": "stdout",
     "output_type": "stream",
     "text": [
      "SELECT distinct s.fk_venue_id, v.venue_name from slots s join venue v on v.pk_venue_id=s.fk_venue_id where fk_venue_id not in (SELECT  fk_venue_id from slots where availability ='U' and slot_id in (?, ?) and date=2019-07-20) UNION SELECT distinct v.pk_venue_id, v.venue_name from venue v where pk_venue_id not in (SELECT distinct fk_venue_id from slots)\n",
      "(1, 'Zilker Field_1')\n",
      "(2, 'Clark Field_1')\n",
      "(3, 'Charles Alan Wright Field_1')\n"
     ]
    }
   ],
   "source": [
    "# Testing query\n",
    "qmarks=\"?, ?\"\n",
    "slotids=(1,2)\n",
    "date='2019-07-20'\n",
    "selectquery = \"SELECT distinct s.fk_venue_id, v.venue_name from slots s join venue v on v.pk_venue_id=s.fk_venue_id where fk_venue_id not in (SELECT  fk_venue_id from slots where availability ='U' and slot_id in ({0}) and date={1}) UNION SELECT distinct v.pk_venue_id, v.venue_name from venue v where pk_venue_id not in (SELECT distinct fk_venue_id from slots)\".format(qmarks,date)\n",
    "print(selectquery)\n",
    "cursor.execute(selectquery, slotids)\n",
    "venuesforslot=cursor.fetchall()\n",
    "for t in venuesforslot:\n",
    "    print(t)"
   ]
  },
  {
   "cell_type": "markdown",
   "metadata": {},
   "source": [
    "## Test Display_Venues_For_Slot"
   ]
  },
  {
   "cell_type": "code",
   "execution_count": 485,
   "metadata": {},
   "outputs": [
    {
     "name": "stdout",
     "output_type": "stream",
     "text": [
      "8 => 10\n",
      "[1, 2]\n",
      "(1, 'Zilker Field_1')\n",
      "(2, 'Clark Field_1')\n",
      "(3, 'Charles Alan Wright Field_1')\n"
     ]
    }
   ],
   "source": [
    "display_venues_for_slot(8,10,'2019-07-20')"
   ]
  },
  {
   "cell_type": "code",
   "execution_count": 486,
   "metadata": {},
   "outputs": [],
   "source": [
    "db.close()"
   ]
  },
  {
   "cell_type": "code",
   "execution_count": null,
   "metadata": {},
   "outputs": [],
   "source": []
  },
  {
   "cell_type": "code",
   "execution_count": null,
   "metadata": {},
   "outputs": [],
   "source": []
  }
 ],
 "metadata": {
  "kernelspec": {
   "display_name": "Python 3",
   "language": "python",
   "name": "python3"
  },
  "language_info": {
   "codemirror_mode": {
    "name": "ipython",
    "version": 3
   },
   "file_extension": ".py",
   "mimetype": "text/x-python",
   "name": "python",
   "nbconvert_exporter": "python",
   "pygments_lexer": "ipython3",
   "version": "3.7.3"
  }
 },
 "nbformat": 4,
 "nbformat_minor": 2
}
