{
 "cells": [
  {
   "cell_type": "markdown",
   "metadata": {},
   "source": [
    "# Soccer Hours\n"
   ]
  },
  {
   "cell_type": "markdown",
   "metadata": {},
   "source": [
    "## Setting up Database using Python"
   ]
  },
  {
   "cell_type": "code",
   "execution_count": 395,
   "metadata": {},
   "outputs": [],
   "source": [
    "# Import sqlite3 module\n",
    "import sqlite3\n",
    "import getpass\n",
    "import datetime\n",
    "\n",
    "# Connect to the soccerhours database\n",
    "db=sqlite3.connect(\"/Users/subhayuchakravarty/AGIT/Github/soccerhours/soccerhours/soccerhours.db\")\n",
    "cursor = db.cursor()\n"
   ]
  },
  {
   "cell_type": "code",
   "execution_count": 255,
   "metadata": {},
   "outputs": [
    {
     "data": {
      "text/plain": [
       "<sqlite3.Cursor at 0x111069880>"
      ]
     },
     "execution_count": 255,
     "metadata": {},
     "output_type": "execute_result"
    }
   ],
   "source": [
    "# Create table Users - Stores User data\n",
    "cursor.execute('''\n",
    "CREATE TABLE user (\n",
    "    pk_user_id INTEGER PRIMARY KEY AUTOINCREMENT,\n",
    "    user_fname VARCHAR,\n",
    "    user_lname VARCHAR,\n",
    "    username VARCHAR NOT NULL,\n",
    "    admin_status VARCHAR NOT NULL,\n",
    "    user_status VARCHAR NOT NULL,\n",
    "    user_email VARCHAR NOT NULL,\n",
    "    user_password VARCHAR NOT NULL,\n",
    "    zip_code INTEGER NOT NULL,\n",
    "    date_added TIMESTAMP NOT NULL\n",
    ")\n",
    "''')\n"
   ]
  },
  {
   "cell_type": "code",
   "execution_count": 289,
   "metadata": {},
   "outputs": [],
   "source": [
    "cursor.execute(''' Insert into sqlite_sequence values(\\'user\\',100) ''')\n",
    "cursor.execute(''' Insert into sqlite_sequence values(\\'venue\\',200) ''')\n",
    "cursor.execute(''' Insert into sqlite_sequence values(\\'events\\',300) ''')\n",
    "db.commit()"
   ]
  },
  {
   "cell_type": "code",
   "execution_count": 259,
   "metadata": {},
   "outputs": [
    {
     "data": {
      "text/plain": [
       "<sqlite3.Cursor at 0x111069880>"
      ]
     },
     "execution_count": 259,
     "metadata": {},
     "output_type": "execute_result"
    }
   ],
   "source": [
    "# Create table Venues - Stores Venue data\n",
    "cursor.execute('''\n",
    "CREATE TABLE venue (\n",
    "    pk_venue_id INTEGER NOT NULL PRIMARY KEY AUTOINCREMENT,\n",
    "    venue_name VARCHAR NOT NULL,\n",
    "    venue_desc VARCHAR NOT NULL,\n",
    "    venue_st_addr VARCHAR NOT NULL,\n",
    "    venue_zip_code INTEGER NOT NULL\n",
    ")\n",
    "''')"
   ]
  },
  {
   "cell_type": "code",
   "execution_count": 260,
   "metadata": {},
   "outputs": [
    {
     "data": {
      "text/plain": [
       "<sqlite3.Cursor at 0x111069880>"
      ]
     },
     "execution_count": 260,
     "metadata": {},
     "output_type": "execute_result"
    }
   ],
   "source": [
    "# Create table Venues - Stores Venue data\n",
    "cursor.execute('''\n",
    "CREATE TABLE events (\n",
    "    pk_event_id INTEGER PRIMARY KEY AUTOINCREMENT,\n",
    "    event_name VARCHAR NOT NULL,\n",
    "    event_desc VARCHAR NOT NULL,\n",
    "    event_date DATETIME NOT NULL,\n",
    "    start_time INTEGER NOT NULL,\n",
    "    end_time INTEGER NOT NULL,\n",
    "    user_id INTEGER NOT NULL,    \n",
    "    venue_id INTEGER NOT NULL,\n",
    "    event_capacity INTEGER NOT NULL,\n",
    "    event_status VARCHAR NOT NULL,\n",
    "    gender_option VARCHAR NOT NULL,\n",
    "    members_joined INTEGER NOT NULL,\n",
    "    slots VARCHAR NOT NULL\n",
    ")\n",
    "''')"
   ]
  },
  {
   "cell_type": "code",
   "execution_count": 261,
   "metadata": {},
   "outputs": [
    {
     "data": {
      "text/plain": [
       "<sqlite3.Cursor at 0x111069880>"
      ]
     },
     "execution_count": 261,
     "metadata": {},
     "output_type": "execute_result"
    }
   ],
   "source": [
    "# Create table Venues - Stores Venue data\n",
    "cursor.execute('''\n",
    "CREATE TABLE slots (\n",
    "    slot_id INTEGER NOT NULL,\n",
    "    venue_id INTEGER NOT NULL,\n",
    "    date DATETIME NOT NULL,\n",
    "    availability VARCHAR NOT NULL\n",
    ")\n",
    "''')"
   ]
  },
  {
   "cell_type": "code",
   "execution_count": 262,
   "metadata": {},
   "outputs": [
    {
     "data": {
      "text/plain": [
       "<sqlite3.Cursor at 0x111069880>"
      ]
     },
     "execution_count": 262,
     "metadata": {},
     "output_type": "execute_result"
    }
   ],
   "source": [
    "# Create table Venues - Stores Venue data\n",
    "cursor.execute('''\n",
    "CREATE TABLE event_members (\n",
    "    event_id INTEGER NOT NULL,\n",
    "    user_id INTEGER NOT NULL\n",
    ")\n",
    "''')"
   ]
  },
  {
   "cell_type": "code",
   "execution_count": 303,
   "metadata": {},
   "outputs": [
    {
     "ename": "OperationalError",
     "evalue": "table timeslots already exists",
     "output_type": "error",
     "traceback": [
      "\u001b[0;31m---------------------------------------------------------------------------\u001b[0m",
      "\u001b[0;31mOperationalError\u001b[0m                          Traceback (most recent call last)",
      "\u001b[0;32m<ipython-input-303-4eb046cb27f9>\u001b[0m in \u001b[0;36m<module>\u001b[0;34m\u001b[0m\n\u001b[1;32m      5\u001b[0m     \u001b[0mslot_id\u001b[0m \u001b[0mINTEGER\u001b[0m \u001b[0mNOT\u001b[0m \u001b[0mNULL\u001b[0m\u001b[0;34m\u001b[0m\u001b[0;34m\u001b[0m\u001b[0m\n\u001b[1;32m      6\u001b[0m )\n\u001b[0;32m----> 7\u001b[0;31m ''')\n\u001b[0m\u001b[1;32m      8\u001b[0m \u001b[0;34m\u001b[0m\u001b[0m\n\u001b[1;32m      9\u001b[0m \u001b[0mdb\u001b[0m\u001b[0;34m.\u001b[0m\u001b[0mcommit\u001b[0m\u001b[0;34m(\u001b[0m\u001b[0;34m)\u001b[0m\u001b[0;34m\u001b[0m\u001b[0;34m\u001b[0m\u001b[0m\n",
      "\u001b[0;31mOperationalError\u001b[0m: table timeslots already exists"
     ]
    }
   ],
   "source": [
    "# Create Static table for Slot ID defintions\n",
    "cursor.execute('''\n",
    "CREATE TABLE timeslots (\n",
    "    start_time INTEGER NOT NULL,\n",
    "    slot_id INTEGER NOT NULL\n",
    ")\n",
    "''')\n",
    "\n",
    "db.commit()"
   ]
  },
  {
   "cell_type": "code",
   "execution_count": 304,
   "metadata": {},
   "outputs": [],
   "source": [
    "cursor.execute('''\n",
    "INSERT INTO timeslots VALUES (8,1),(9,2),(10,3),(11,4),(12,5),(13,6),(14,7),(15,8),(16,9),(17,10),(18,11),(19,12),(20,13);\n",
    "''')\n",
    "\n",
    "db.commit()"
   ]
  },
  {
   "cell_type": "markdown",
   "metadata": {},
   "source": [
    "### Common Functions"
   ]
  },
  {
   "cell_type": "code",
   "execution_count": 291,
   "metadata": {},
   "outputs": [],
   "source": [
    "# Duplicate UserName check\n",
    "def dup_username_check(username):\n",
    "\n",
    "    cursor.execute(''' SELECT username from user ''')\n",
    "    usernames=cursor.fetchall()\n",
    "    if ((username,) in usernames):\n",
    "        print(\"UserName {0} already exists.\".format(username))\n",
    "        return False\n",
    "    else:\n",
    "        print(\"Username available, please proceed.\")\n",
    "        return True"
   ]
  },
  {
   "cell_type": "code",
   "execution_count": 292,
   "metadata": {},
   "outputs": [],
   "source": [
    "# Duplicate Email check\n",
    "def dup_email_check(email):\n",
    "\n",
    "    cursor.execute(''' SELECT user_email from user ''')\n",
    "    emails=cursor.fetchall()\n",
    "    if (email,) in emails:\n",
    "        print(\"User with email address {0} already exists.\".format(email))\n",
    "        return False\n",
    "    print(\"Unique email address, please proceed.\")\n",
    "    return True"
   ]
  },
  {
   "cell_type": "code",
   "execution_count": 297,
   "metadata": {},
   "outputs": [],
   "source": [
    "# Duplicate Venue check\n",
    "def dup_venue_check(venuename,zipcode):\n",
    "\n",
    "    cursor.execute(''' SELECT venue_name, venue_zip_code from venue ''')\n",
    "    venues=cursor.fetchall()\n",
    "    venue=(venuename,zipcode)\n",
    "\n",
    "    if (venue in venues):\n",
    "        print(\"Venue with name: \\'{0}\\' and Zip code: {1} already exists.\".format(venuename,zipcode))\n",
    "        return False\n",
    "    else:\n",
    "        return True"
   ]
  },
  {
   "cell_type": "code",
   "execution_count": 376,
   "metadata": {},
   "outputs": [],
   "source": [
    "# Function to get slot IDs from start and end times\n",
    "\n",
    "def get_slot_ids(starttime, endtime):\n",
    "    diff = endtime - starttime\n",
    "    slotstarts=starttime\n",
    "    slotids = list()\n",
    "    cursor.execute(''' SELECT slot_id from timeslots where start_time= ? ''',(starttime,))\n",
    "    slotid=cursor.fetchone()[0]\n",
    "    slotids.append(int(slotid))\n",
    "    \n",
    "    if diff>1:\n",
    "        for i in range(diff-1): \n",
    "            slotids.append(slotids[i]+1)\n",
    "        return slotids    \n",
    "    else:\n",
    "        return slotids[0]"
   ]
  },
  {
   "cell_type": "code",
   "execution_count": 328,
   "metadata": {},
   "outputs": [],
   "source": [
    "def check_valid_date(date):\n",
    "    today=str(datetime.datetime.today()).split()[0]\n",
    "    if (date>today):\n",
    "        return 'G'\n",
    "    elif(today>date):\n",
    "        return 'L'\n",
    "    else:\n",
    "        return 'T'\n",
    "    \n",
    "    "
   ]
  },
  {
   "cell_type": "code",
   "execution_count": 342,
   "metadata": {},
   "outputs": [],
   "source": [
    "def check_valid_time(starttime):\n",
    "    now = datetime.datetime.now()\n",
    "    if (now.hour >= int(starttime)):\n",
    "        return False\n",
    "    else:\n",
    "        return True\n",
    "    "
   ]
  },
  {
   "cell_type": "code",
   "execution_count": 355,
   "metadata": {},
   "outputs": [],
   "source": [
    "def check_start_end_time(time,startorend):\n",
    "    now = datetime.datetime.now()\n",
    "    inttime=int(time)\n",
    "    if (startorend=='S'):\n",
    "        if (inttime<8 or inttime>20):\n",
    "            return False\n",
    "        else:\n",
    "            return True\n",
    "    else:\n",
    "        if (inttime<8 or inttime>21):\n",
    "            return False\n",
    "        else:\n",
    "            return True"
   ]
  },
  {
   "cell_type": "code",
   "execution_count": 334,
   "metadata": {},
   "outputs": [],
   "source": [
    "def check_venue_slots(venueid, eventdate):\n",
    "    cursor.execute(''' Select 1 from slots where venue_id=? and date=? ''',(venueid,eventdate))\n",
    "    return bool(cursor.fetchone())\n",
    "    "
   ]
  },
  {
   "cell_type": "code",
   "execution_count": 401,
   "metadata": {},
   "outputs": [],
   "source": [
    "def check_valid_user(userid):\n",
    "    cursor.execute(''' Select pk_user_id from user where pk_user_id=? ''',(userid,))\n",
    "    user=cursor.fetchone()\n",
    "    if(user!=None):\n",
    "        return True\n",
    "    return False\n",
    "    "
   ]
  },
  {
   "cell_type": "code",
   "execution_count": 404,
   "metadata": {},
   "outputs": [],
   "source": [
    "def check_valid_venue(venueid):\n",
    "    cursor.execute(''' Select pk_venue_id from venue where pk_venue_id=? ''',(venueid,))\n",
    "    venue=cursor.fetchone()\n",
    "    if(venue!=None):\n",
    "        return True\n",
    "    return False"
   ]
  },
  {
   "cell_type": "code",
   "execution_count": 412,
   "metadata": {},
   "outputs": [
    {
     "data": {
      "text/plain": [
       "True"
      ]
     },
     "execution_count": 412,
     "metadata": {},
     "output_type": "execute_result"
    }
   ],
   "source": [
    "check_valid_event(301)"
   ]
  },
  {
   "cell_type": "code",
   "execution_count": 410,
   "metadata": {},
   "outputs": [],
   "source": [
    "def check_valid_event(eventid):\n",
    "    cursor.execute(''' Select pk_event_id from events where pk_event_id=? ''',(eventid,))\n",
    "    event=cursor.fetchone()\n",
    "    if(event!=None):\n",
    "        return True\n",
    "    return False"
   ]
  },
  {
   "cell_type": "markdown",
   "metadata": {},
   "source": [
    "# Python Function Definitions"
   ]
  },
  {
   "cell_type": "markdown",
   "metadata": {},
   "source": [
    "## 1. Add New User\n",
    "\n",
    "Adds a user to the SoccerHours Database\n"
   ]
  },
  {
   "cell_type": "code",
   "execution_count": 290,
   "metadata": {},
   "outputs": [],
   "source": [
    "# Adds One New user by inserting into table 'users'\n",
    "\n",
    "def add_user(**userdata) :\n",
    "    \n",
    "    username=userdata['username']\n",
    "    firstname=userdata['firstname']\n",
    "    lastname=userdata['lastname']\n",
    "    email=userdata['email']\n",
    "    password=userdata['password']\n",
    "    zipcode=userdata['zipcode']\n",
    "    isadmin=userdata['isadmin']\n",
    "\n",
    "    if isadmin=='Y':\n",
    "        isadmin='A'\n",
    "    else:\n",
    "        isadmin='N'\n",
    "    \n",
    "    cursor.execute(''' INSERT INTO user VALUES((select seq from sqlite_sequence where name='user')+1,?,?,?,?,'A',?,?,?,?) ''',(firstname,lastname,username,isadmin,email,password,zipcode,datetime.datetime.now()))\n",
    "    db.commit()\n"
   ]
  },
  {
   "cell_type": "markdown",
   "metadata": {},
   "source": [
    "## Test Add_User"
   ]
  },
  {
   "cell_type": "code",
   "execution_count": 295,
   "metadata": {},
   "outputs": [
    {
     "name": "stdout",
     "output_type": "stream",
     "text": [
      "UserName:k4rd4k\n",
      "Username available, please proceed.\n",
      "First Name:Abhishek\n",
      "Last Name:Kardak\n",
      "Email ID:akrdak@gmail.com\n",
      "Unique email address, please proceed.\n",
      "Password:········\n",
      "Confirm Password:········\n",
      "Default Zip Code:78751\n",
      "Is this an Admin user? (Y/N): N\n"
     ]
    }
   ],
   "source": [
    "userdata=dict()\n",
    "userdata['username']=input(\"UserName:\")\n",
    "\n",
    "s=dup_username_check(userdata['username'])\n",
    "while(s==False):\n",
    "    userdata['username']=input(\"Re-enter New UserName:\")\n",
    "    s=dup_username_check(userdata['username'])\n",
    "\n",
    "userdata['firstname']=input(\"First Name:\")\n",
    "userdata['lastname']=input(\"Last Name:\")\n",
    "userdata['email']=input(\"Email ID:\")\n",
    "s=dup_email_check(userdata['email'])\n",
    "\n",
    "while s==False:\n",
    "    userdata['email']=input(\"New Email ID:\")\n",
    "    s=dup_email_check(userdata['email'])\n",
    "\n",
    "userdata['password']=getpass.getpass(\"Password:\")\n",
    "cpassword=getpass.getpass(\"Confirm Password:\")\n",
    "while(cpassword!=userdata['password']):\n",
    "    print(\"Passwords do not match\")\n",
    "    userdata['password']=getpass.getpass(\"Password:\")\n",
    "    cpassword=getpass.getpass(\"Confirm Password:\")\n",
    "\n",
    "userdata['zipcode']=input(\"Default Zip Code:\")\n",
    "userdata['isadmin']=input(\"Is this an Admin user? (Y/N): \")\n",
    "add_user(**userdata)\n",
    "    "
   ]
  },
  {
   "cell_type": "markdown",
   "metadata": {},
   "source": [
    "## 2. Add New Venue\n",
    "\n",
    "Adds a user to the SoccerHours Database\n"
   ]
  },
  {
   "cell_type": "code",
   "execution_count": 296,
   "metadata": {},
   "outputs": [],
   "source": [
    "# Adds One New Venue by inserting into table 'venue'\n",
    "\n",
    "def add_venue(**venuedata) :\n",
    "    \n",
    "    venuename=venuedata['venuename']\n",
    "    venuedesc=venuedata['venuedesc']\n",
    "    venueaddr=venuedata['venueaddr']\n",
    "    zipcode=venuedata['zipcode']\n",
    "    \n",
    "    # duplicate venue check\n",
    "\n",
    "    # Inserts into venue\n",
    "    cursor.execute(''' INSERT INTO venue VALUES((Select seq+1 from sqlite_sequence where name='venue'),?,?,?,?) ''',(venuename,venuedesc,venueaddr,zipcode))\n",
    "\n",
    "    db.commit()\n"
   ]
  },
  {
   "cell_type": "code",
   "execution_count": 297,
   "metadata": {},
   "outputs": [],
   "source": [
    "# Duplicate Venue check\n",
    "def dup_venue_check(venuename,zipcode):\n",
    "\n",
    "    cursor.execute(''' SELECT venue_name, venue_zip_code from venue ''')\n",
    "    venues=cursor.fetchall()\n",
    "    venue=(venuename,zipcode)\n",
    "\n",
    "    if (venue in venues):\n",
    "        print(\"Venue with name: \\'{0}\\' and Zip code: {1} already exists.\".format(venuename,zipcode))\n",
    "        return False\n",
    "    else:\n",
    "        return True"
   ]
  },
  {
   "cell_type": "markdown",
   "metadata": {},
   "source": [
    "## Test Add_Venue"
   ]
  },
  {
   "cell_type": "code",
   "execution_count": 305,
   "metadata": {},
   "outputs": [
    {
     "name": "stdout",
     "output_type": "stream",
     "text": [
      "Venue Short Name:Clark Field 2\n",
      "Zip Code:78712\n",
      "Venue Description:UT Clark field 2\n",
      "Address:UT Austin\n"
     ]
    }
   ],
   "source": [
    "venuedata=dict()\n",
    "venuedata['venuename']=input(\"Venue Short Name:\")\n",
    "venuedata['zipcode']=input(\"Zip Code:\")\n",
    "\n",
    "while (dup_venue_check(venuedata['venuename'], int(venuedata['zipcode'])) != True):\n",
    "    venuedata['venuename']=input(\"New Venue's Short Name:\")\n",
    "    venuedata['zipcode']=input(\"New Venue's Zip Code:\")\n",
    "\n",
    "venuedata['venuedesc']=input(\"Venue Description:\")\n",
    "venuedata['venueaddr']=input(\"Address:\")\n",
    "add_venue(**venuedata)"
   ]
  },
  {
   "cell_type": "markdown",
   "metadata": {},
   "source": [
    "## 3. Start an Event\n",
    "\n",
    "Adds an event into soccerhours database in Active status with 1 member added"
   ]
  },
  {
   "cell_type": "code",
   "execution_count": 359,
   "metadata": {},
   "outputs": [],
   "source": [
    "# Adds the New Event by inserting into table 'events'\n",
    "\n",
    "def start_event(**eventdata) :\n",
    "    \n",
    "    venueid=eventdata['venueid']    \n",
    "    userid=eventdata['userid'] \n",
    "    eventname=eventdata['eventname']\n",
    "    eventdesc=eventdata['eventdesc']\n",
    "    eventdate=eventdata['eventdate']\n",
    "    starttime=eventdata['starttime']\n",
    "    endtime=eventdata['endtime']\n",
    "    eventcapacity=eventdata['eventcapacity']\n",
    "    genderoption=eventdata['genderoption']\n",
    "    if(check_start_end_time(starttime,'S') and check_start_end_time(endtime,'E')):\n",
    "        # Derive slots from StartTime, EndTime\n",
    "        slotids=get_slot_ids(int(starttime),int(endtime))\n",
    "    else:\n",
    "        print(\"\\nInvalid timings entered. Venue not booked.\\n\\nValid values are : \\nRange of 8 - 20 for Start time\\nRange of 9 - 21 for End time\")\n",
    "        return\n",
    "    \n",
    "    if(isinstance(slotids,list)):\n",
    "        slots=\",\".join(map(str,slotids))\n",
    "    else:\n",
    "        slots=str(slotids)\n",
    "\n",
    "    cursor.execute(''' Select seq+1 from sqlite_sequence where name='events' ''')    \n",
    "    eventid=cursor.fetchone()[0]\n",
    "    \n",
    "        \n",
    "    # Check if valid user ()\n",
    "    # If today, check if start time later than current time\n",
    "    datestatus=check_valid_date(eventdate)\n",
    "    if(datestatus=='G' or datestatus=='T'):\n",
    "        if(datestatus=='T' and check_valid_time(starttime)):\n",
    "            \n",
    "            cursor.execute(''' INSERT INTO events(pk_event_id,event_name,event_desc,event_date,start_time,end_time,user_id,venue_id,event_capacity,event_status,members_joined,slots,gender_option) VALUES(?,?,?,?,?,?,?,?,?,'A',1,?,?) ''',(eventid,eventname,eventdesc,eventdate,starttime,endtime,userid,venueid,eventcapacity,slots,genderoption))\n",
    "            # Insert entry in event_members\n",
    "            cursor.execute(''' INSERT INTO event_members VALUES(?,?) ''',(eventid,userid))\n",
    "            # Check if entries exist in Slots\n",
    "            slotspresent = check_venue_slots(venueid, eventdate)\n",
    "            if ~slotspresent:\n",
    "                for i in range(13):\n",
    "                    cursor.execute(''' INSERT INTO slots VALUES(?+1,CAST(? as INTEGER),?,'A') ''',(i,venueid,eventdate))\n",
    "\n",
    "            for i in slotids:\n",
    "                cursor.execute(''' Update slots set availability='U' where venue_id=? and slot_id=? ''',(venueid,i))\n",
    "\n",
    "            print(\"Slots booked for time:\",starttime,\":00  to \",endtime,\":00  on date:\",eventdate,\" for Venue ID:\",venueid)\n",
    "        else:\n",
    "            print(\"Enter a valid integer hour that is greater than current time. Please retry.\")\n",
    "    else:\n",
    "        print(\"The provided date has passed. Unable to book event for past date.\")\n",
    "    \n",
    "    db.commit()"
   ]
  },
  {
   "cell_type": "markdown",
   "metadata": {},
   "source": [
    "## Test Start_Event"
   ]
  },
  {
   "cell_type": "code",
   "execution_count": 357,
   "metadata": {},
   "outputs": [
    {
     "name": "stdout",
     "output_type": "stream",
     "text": [
      "Event Name:MSF\n",
      "Event Description:MSF\n",
      "Event Date(YYYY-MM-DD):2019-07-29\n",
      "Start Time (Hour in 24-hr format):7\n",
      "End Time (Hour in 24-hr format):10\n",
      "Venue ID:201\n",
      "Total Event Capacity:20\n",
      "Gender Option:M\n",
      "User ID:101\n",
      "\n",
      "Invalid timings entered. Valid values are : \n",
      "8-20 for Start time\n",
      "9-21 for End time\n"
     ]
    }
   ],
   "source": [
    "eventdata=dict()\n",
    "eventdata['eventname']=input(\"Event Name:\")\n",
    "eventdata['eventdesc']=input(\"Event Description:\")\n",
    "eventdata['eventdate']=input(\"Event Date(YYYY-MM-DD):\")\n",
    "eventdata['starttime']=input(\"Start Time (Hour in 24-hr format):\")\n",
    "eventdata['endtime']=input(\"End Time (Hour in 24-hr format):\")\n",
    "eventdata['venueid']=input(\"Venue ID:\")\n",
    "eventdata['eventcapacity']=input(\"Total Event Capacity:\")\n",
    "eventdata['genderoption']=input(\"Gender Option:\")\n",
    "eventdata['userid']=input(\"User ID:\")\n",
    "\n",
    "#eventdata = {'eventname':'Zilker-Footy', 'eventdesc': 'A friendly between UT Grads', 'eventdate': '2019-07-21', 'starttime':8, 'endtime': 10, 'venueid': 202,'eventcapacity': 4, 'genderoption': 'C', 'userid':101}\n",
    "\n",
    "start_event(**eventdata)"
   ]
  },
  {
   "cell_type": "markdown",
   "metadata": {},
   "source": [
    "# 4. Display timeslot availability at a venue"
   ]
  },
  {
   "cell_type": "code",
   "execution_count": 370,
   "metadata": {},
   "outputs": [],
   "source": [
    "# Display timeslot availability at a selected venue\n",
    "\n",
    "def display_available_slots(venueid,availdate) :\n",
    "        \n",
    "    cursor.execute('''SELECT start_time FROM timeslots t JOIN slots s ON t.slot_id=s.slot_id WHERE s.venue_id=? AND s.date=?  AND s.availability=\\'A\\' ''',(venueid,availdate))\n",
    "    starttimes = cursor.fetchall()\n",
    "    for starttime in starttimes:\n",
    "        print(str(starttime[0])+\":00\")"
   ]
  },
  {
   "cell_type": "markdown",
   "metadata": {},
   "source": [
    "# Test timeslot availability at a venue"
   ]
  },
  {
   "cell_type": "code",
   "execution_count": 369,
   "metadata": {},
   "outputs": [
    {
     "name": "stdout",
     "output_type": "stream",
     "text": [
      "Enter VenueID:202\n",
      "Enter Date to check availability(YYYY-MM-DD):2019-07-30\n",
      "[(11,), (12,), (13,), (14,), (15,), (16,), (17,), (18,), (19,), (20,)]\n",
      "11:00\n",
      "12:00\n",
      "13:00\n",
      "14:00\n",
      "15:00\n",
      "16:00\n",
      "17:00\n",
      "18:00\n",
      "19:00\n",
      "20:00\n"
     ]
    }
   ],
   "source": [
    "venueid=input(\"Enter VenueID:\")\n",
    "availdate=input(\"Enter Date to check availability(YYYY-MM-DD):\")\n",
    "\n",
    "display_available_slots(venueid,availdate)"
   ]
  },
  {
   "cell_type": "markdown",
   "metadata": {},
   "source": [
    "## 5. Display all venues where particular time slot is available\n",
    "\n",
    "Selects all the available venues for a particular chosen time slot"
   ]
  },
  {
   "cell_type": "code",
   "execution_count": 378,
   "metadata": {},
   "outputs": [],
   "source": [
    "# Selects venues where a certain time slot is available\n",
    "\n",
    "def display_venues_for_slot(starttime, endtime, date) :\n",
    "\n",
    "    slotids=get_slot_ids(starttime, endtime)\n",
    "    \n",
    "    print (\"\\n\\nThe Venues that have %s => %s Slots available:\" % (starttime, endtime))\n",
    "\n",
    "    qmark= \"?\"\n",
    "    if isinstance(slotids,list):\n",
    "        qmarks= \",\".join(qmark for slotid in slotids)\n",
    "    else:\n",
    "        qmarks=qmark\n",
    "\n",
    "    selectNonEventsquery = \"SELECT distinct s.venue_id, v.venue_name from slots s join venue v on v.pk_venue_id=s.venue_id where venue_id not in (SELECT distinct venue_id from slots where availability ='U' and slot_id in ({0}) and date='{1}') UNION SELECT distinct v.pk_venue_id, v.venue_name from venue v where pk_venue_id not in (SELECT venue_id from slots)\".format(qmarks,date)\n",
    "\n",
    "    cursor.execute(selectNonEventsquery, slotids)\n",
    "    venuesforslot=cursor.fetchall()\n",
    "        \n",
    "    return venuesforslot"
   ]
  },
  {
   "cell_type": "markdown",
   "metadata": {},
   "source": [
    "## Test Display_Venues_For_Slot"
   ]
  },
  {
   "cell_type": "code",
   "execution_count": 377,
   "metadata": {},
   "outputs": [
    {
     "name": "stdout",
     "output_type": "stream",
     "text": [
      "Start Time (Hour of the day):10\n",
      "End Time (Hour of the day):12\n",
      "Enter the date(YYYY-MM-DD):2019-07-30\n",
      "The Venues that have 10 => 12 Slots available:\n",
      "Clark Field 1\n"
     ]
    }
   ],
   "source": [
    "starttime=input(\"Start Time (Hour of the day):\")\n",
    "endtime=input(\"End Time (Hour of the day):\")\n",
    "date=input(\"Enter the date(YYYY-MM-DD):\")\n",
    "\n",
    "venues=display_venues_for_slot(int(starttime),int(endtime),date)\n",
    "for t in venues:\n",
    "    print(t[1])"
   ]
  },
  {
   "cell_type": "markdown",
   "metadata": {},
   "source": [
    "# 6. List events at a venue given date/time"
   ]
  },
  {
   "cell_type": "code",
   "execution_count": 379,
   "metadata": {},
   "outputs": [],
   "source": [
    "# Selects venues where a certain time slot is available\n",
    "\n",
    "def display_venue_events(venueid,eventdate,starttime,endtime) :\n",
    "\n",
    "    cursor.execute(''' SELECT event_name, start_time, end_time FROM events\n",
    "                        WHERE venue_id=? \n",
    "                        AND event_date=? \n",
    "                        AND start_time<?\n",
    "                        AND end_time>? ''',(venueid,eventdate,endtime,starttime))\n",
    "    \n",
    "    events=cursor.fetchall()\n",
    "    for event in events:\n",
    "        print(\"\\n\\nEvent Name:\",event[0],\"\\nEvent Timing:\",event[1], \": 00 to\",event[2],\":00\\n\",\"------------------------------------------\",\"\\n\")"
   ]
  },
  {
   "cell_type": "markdown",
   "metadata": {},
   "source": [
    "# Test list events at a venue given date/time"
   ]
  },
  {
   "cell_type": "code",
   "execution_count": 380,
   "metadata": {},
   "outputs": [
    {
     "name": "stdout",
     "output_type": "stream",
     "text": [
      "Enter VenueID of user:202\n",
      "Enter EventDate:2019-07-30\n",
      "Enter StartTime of event:9\n",
      "Enter EndTime of event:15\n",
      "\n",
      "\n",
      "Event Name: MSITM match \n",
      "Event Timing: 8 : 00 to 11 :00\n",
      " ------------------------------------------ \n",
      "\n"
     ]
    }
   ],
   "source": [
    "venueid=input(\"Enter VenueID of user:\")\n",
    "eventdate=input(\"Enter EventDate:\")\n",
    "starttime=input(\"Enter StartTime of event:\")\n",
    "endtime=input(\"Enter EndTime of event:\")\n",
    "\n",
    "display_venue_events(venueid,eventdate,starttime,endtime)"
   ]
  },
  {
   "cell_type": "markdown",
   "metadata": {},
   "source": [
    "## 7. User Joins an Event"
   ]
  },
  {
   "cell_type": "code",
   "execution_count": 384,
   "metadata": {},
   "outputs": [],
   "source": [
    "# Updates tables when a user joins an event\n",
    "\n",
    "def user_joins_event(userid, eventid) :\n",
    "\n",
    "    #Validate userid, eventid\n",
    "    cursor.execute(''' Select event_capacity, members_joined from events where pk_event_id=? ''', (eventid,))\n",
    "    eventroom=cursor.fetchone()\n",
    "\n",
    "    if eventroom[0]>eventroom[1]:\n",
    "        # Update Events table\n",
    "        cursor.execute(''' Update events set members_joined=members_joined+1 where pk_event_id=? ''', (eventid,))\n",
    "\n",
    "        # Update EventMembers table\n",
    "        cursor.execute(''' INSERT INTO event_members values (?,?) ''',(eventid, userid))\n",
    "        print(\"UserID: {0} has joined event: {1}\".format(userid,eventid))\n",
    "    else:\n",
    "        return \"Event is full\"\n",
    "    \n",
    "\n",
    "    db.commit()"
   ]
  },
  {
   "cell_type": "markdown",
   "metadata": {},
   "source": [
    "## Test User_Joins_Event"
   ]
  },
  {
   "cell_type": "code",
   "execution_count": 383,
   "metadata": {},
   "outputs": [
    {
     "name": "stdout",
     "output_type": "stream",
     "text": [
      "Enter UserID of user:102\n",
      "Enter EventID joined:301\n",
      "UserID: 102 has joined event: 301\n"
     ]
    }
   ],
   "source": [
    "userid=input(\"Enter UserID of user:\")\n",
    "eventid=input(\"Enter EventID joined:\")\n",
    "\n",
    "user_joins_event(userid,eventid)"
   ]
  },
  {
   "cell_type": "markdown",
   "metadata": {},
   "source": [
    "# 8. Remove an event (admin only)"
   ]
  },
  {
   "cell_type": "code",
   "execution_count": 387,
   "metadata": {},
   "outputs": [],
   "source": [
    "# Removes an event\n",
    "\n",
    "def deactivate_event(eventid,userid) :\n",
    "\n",
    "    cursor.execute('''SELECT admin_status FROM user WHERE pk_user_id=?''',(userid,)) \n",
    "    adminstatus=cursor.fetchone()\n",
    "    if adminstatus==('A',):\n",
    "\n",
    "        cursor.execute('''UPDATE events SET event_status='U' WHERE pk_event_id=?''',(eventid,))\n",
    "\n",
    "        cursor.execute(''' SELECT slots from events where pk_event_id= ? ''',(eventid,))\n",
    "        slotids=cursor.fetchone()[0]\n",
    "        slotlist=slotids.split(',')\n",
    "        # Conversion to integers\n",
    "        int_slotlist = [int(i) for i in slotlist] \n",
    "        \n",
    "        qmark= \"?\"\n",
    "        if isinstance(slotlist,list):\n",
    "            qmarks= \",\".join(qmark for slotid in slotlist)\n",
    "        else:\n",
    "            qmarks=qmark\n",
    "\n",
    "        query = \"UPDATE slots SET availability=\\'A\\' WHERE venue_id=(SELECT venue_id FROM  events WHERE pk_event_id={0}) AND date = (SELECT event_date FROM events WHERE pk_event_id={1}) AND slot_id IN ({2})\".format(eventid,eventid,qmarks)\n",
    "        cursor.execute(query,int_slotlist)\n",
    "\n",
    "        cursor.execute('''DELETE FROM event_members WHERE event_id=?''',(eventid,))\n",
    "        print(\"\\nEvent with ID: {0} has been removed by User ID: {1}\".format(eventid,userid))\n",
    "\n",
    "    else:\n",
    "        print(\"\\nUser is not an admin. Only admin users are allowed to remove an event.\")\n",
    "\n",
    "    db.commit()\n",
    "    "
   ]
  },
  {
   "cell_type": "markdown",
   "metadata": {},
   "source": [
    "# Test remove an event (admin only)"
   ]
  },
  {
   "cell_type": "code",
   "execution_count": 391,
   "metadata": {},
   "outputs": [
    {
     "name": "stdout",
     "output_type": "stream",
     "text": [
      "Enter EventID joined:301\n",
      "Enter UserID of user:101\n",
      "\n",
      "Event with ID: 301 has been removed by User ID: 101\n"
     ]
    }
   ],
   "source": [
    "eventid=input(\"Enter EventID joined:\")\n",
    "userid=input(\"Enter UserID of user:\")\n",
    "\n",
    "deactivate_event(eventid,userid)"
   ]
  },
  {
   "cell_type": "code",
   "execution_count": 392,
   "metadata": {},
   "outputs": [],
   "source": [
    "db.close()"
   ]
  },
  {
   "cell_type": "markdown",
   "metadata": {},
   "source": [
    "## Clean Up SQL Scripts"
   ]
  },
  {
   "cell_type": "code",
   "execution_count": 248,
   "metadata": {},
   "outputs": [],
   "source": [
    "# Import sqlite3 module\n",
    "import sqlite3\n",
    "\n",
    "# Connect to the soccerhours database\n",
    "db=sqlite3.connect(\"/Users/subhayuchakravarty/AGIT/Github/soccerhours/soccerhours/soccerhours.db\")\n",
    "cursor = db.cursor()"
   ]
  },
  {
   "cell_type": "code",
   "execution_count": 288,
   "metadata": {},
   "outputs": [],
   "source": [
    "cursor.execute('''DELETE FROM event_members ''')\n",
    "cursor.execute('''DELETE FROM events ''')\n",
    "cursor.execute('''DELETE FROM timeslots ''')\n",
    "cursor.execute('''DELETE FROM slots ''')\n",
    "cursor.execute('''DELETE FROM venue ''')\n",
    "cursor.execute('''DELETE FROM user ''')\n",
    "cursor.execute('''DELETE FROM sqlite_sequence ''')\n",
    "\n",
    "db.commit()"
   ]
  },
  {
   "cell_type": "code",
   "execution_count": null,
   "metadata": {},
   "outputs": [],
   "source": [
    "cursor.execute('''DROP TABLE event_members ''')\n",
    "cursor.execute('''DROP TABLE events ''')\n",
    "cursor.execute('''DROP TABLE timeslots ''')\n",
    "cursor.execute('''DROP TABLE slots ''')\n",
    "cursor.execute('''DROP TABLE venue ''')\n",
    "cursor.execute('''DROP TABLE user ''')\n",
    "\n",
    "db.commit()"
   ]
  }
 ],
 "metadata": {
  "kernelspec": {
   "display_name": "Python 3",
   "language": "python",
   "name": "python3"
  },
  "language_info": {
   "codemirror_mode": {
    "name": "ipython",
    "version": 3
   },
   "file_extension": ".py",
   "mimetype": "text/x-python",
   "name": "python",
   "nbconvert_exporter": "python",
   "pygments_lexer": "ipython3",
   "version": "3.7.3"
  }
 },
 "nbformat": 4,
 "nbformat_minor": 2
}
