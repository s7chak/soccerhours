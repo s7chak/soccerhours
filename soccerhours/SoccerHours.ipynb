{
 "cells": [
  {
   "cell_type": "markdown",
   "metadata": {},
   "source": [
    "# Soccer Hours\n"
   ]
  },
  {
   "cell_type": "markdown",
   "metadata": {},
   "source": [
    "## Setting up Database using Python"
   ]
  },
  {
   "cell_type": "code",
   "execution_count": 24,
   "metadata": {},
   "outputs": [],
   "source": [
    "# Import sqlite3 module\n",
    "import sqlite3\n",
    "\n",
    "# Connect to the soccerhours database\n",
    "db=sqlite3.connect(\"/Users/subhayuchakravarty/sqlite/db/soccerhours.db\")\n",
    "cursor = db.cursor()\n",
    "\n"
   ]
  },
  {
   "cell_type": "code",
   "execution_count": 6,
   "metadata": {},
   "outputs": [
    {
     "data": {
      "text/plain": [
       "<sqlite3.Cursor at 0x108b1bf80>"
      ]
     },
     "execution_count": 6,
     "metadata": {},
     "output_type": "execute_result"
    }
   ],
   "source": [
    "cursor.execute(''' drop table event_members ''')"
   ]
  },
  {
   "cell_type": "code",
   "execution_count": 7,
   "metadata": {},
   "outputs": [
    {
     "data": {
      "text/plain": [
       "<sqlite3.Cursor at 0x108b1bf80>"
      ]
     },
     "execution_count": 7,
     "metadata": {},
     "output_type": "execute_result"
    }
   ],
   "source": [
    "# Create table Users - Stores User data\n",
    "cursor.execute('''\n",
    "CREATE TABLE user (\n",
    "    pk_user_id INTEGER PRIMARY KEY AUTOINCREMENT,\n",
    "    user_fname VARCHAR,\n",
    "    user_lname VARCHAR,\n",
    "    username VARCHAR NOT NULL,\n",
    "    admin_status VARCHAR NOT NULL,\n",
    "    user_status VARCHAR NOT NULL,\n",
    "    user_email VARCHAR NOT NULL,\n",
    "    user_password VARCHAR NOT NULL,\n",
    "    zip_code INTEGER NOT NULL,\n",
    "    date_added TIMESTAMP NOT NULL\n",
    ")\n",
    "''')\n"
   ]
  },
  {
   "cell_type": "code",
   "execution_count": 8,
   "metadata": {},
   "outputs": [
    {
     "data": {
      "text/plain": [
       "<sqlite3.Cursor at 0x108b1bf80>"
      ]
     },
     "execution_count": 8,
     "metadata": {},
     "output_type": "execute_result"
    }
   ],
   "source": [
    "# Create table Venues - Stores Venue data\n",
    "cursor.execute('''\n",
    "CREATE TABLE venue (\n",
    "    pk_venue_id INTEGER NOT NULL PRIMARY KEY,\n",
    "    venue_name VARCHAR NOT NULL,\n",
    "    venue_desc VARCHAR NOT NULL,\n",
    "    venue_st_addr VARCHAR NOT NULL,\n",
    "    venue_zip_code INTEGER NOT NULL\n",
    ")\n",
    "''')"
   ]
  },
  {
   "cell_type": "code",
   "execution_count": 9,
   "metadata": {},
   "outputs": [
    {
     "data": {
      "text/plain": [
       "<sqlite3.Cursor at 0x108b1bf80>"
      ]
     },
     "execution_count": 9,
     "metadata": {},
     "output_type": "execute_result"
    }
   ],
   "source": [
    "# Create table Venues - Stores Venue data\n",
    "cursor.execute('''\n",
    "CREATE TABLE events (\n",
    "    pk_event_id INTEGER PRIMARY KEY AUTOINCREMENT,\n",
    "    event_name VARCHAR NOT NULL,\n",
    "    event_desc VARCHAR NOT NULL,\n",
    "    event_date DATETIME NOT NULL,\n",
    "    start_time INTEGER NOT NULL,\n",
    "    end_time INTEGER NOT NULL,\n",
    "    fk_venue_id INTEGER NOT NULL,\n",
    "    event_capacity INTEGER NOT NULL,\n",
    "    event_status VARCHAR NOT NULL,\n",
    "    gender_options VARCHAR NOT NULL,\n",
    "    members_joined INTEGER NOT NULL,\n",
    "    FOREIGN KEY (fk_venue_id) REFERENCES venue(venue_id)\n",
    ")\n",
    "''')"
   ]
  },
  {
   "cell_type": "code",
   "execution_count": 10,
   "metadata": {},
   "outputs": [
    {
     "data": {
      "text/plain": [
       "<sqlite3.Cursor at 0x108b1bf80>"
      ]
     },
     "execution_count": 10,
     "metadata": {},
     "output_type": "execute_result"
    }
   ],
   "source": [
    "# Create table Venues - Stores Venue data\n",
    "cursor.execute('''\n",
    "CREATE TABLE slots (\n",
    "    pk_slot_id INTEGER NOT NULL,\n",
    "    fk_venue_id INTEGER NOT NULL,\n",
    "    availability VARCHAR NOT NULL,\n",
    "    FOREIGN KEY (fk_venue_id) REFERENCES venue(venue_id)\n",
    ")\n",
    "''')"
   ]
  },
  {
   "cell_type": "code",
   "execution_count": 11,
   "metadata": {},
   "outputs": [
    {
     "data": {
      "text/plain": [
       "<sqlite3.Cursor at 0x108b1bf80>"
      ]
     },
     "execution_count": 11,
     "metadata": {},
     "output_type": "execute_result"
    }
   ],
   "source": [
    "# Create table Venues - Stores Venue data\n",
    "cursor.execute('''\n",
    "CREATE TABLE event_members (\n",
    "    pk_member_number INTEGER PRIMARY KEY AUTOINCREMENT,\n",
    "    fk_event_id INTEGER NOT NULL,\n",
    "    fk_user_id INTEGER NOT NULL,\n",
    "    FOREIGN KEY (fk_event_id) REFERENCES events(event_id)\n",
    "    FOREIGN KEY (fk_user_id) REFERENCES user(pk_user_id)\n",
    ")\n",
    "''')"
   ]
  },
  {
   "cell_type": "code",
   "execution_count": 13,
   "metadata": {},
   "outputs": [],
   "source": [
    "# Write a query to list the contents of the table media_types and execute it.\n",
    "# Your code goes here.\n",
    "\n",
    "cursor.execute('''SELECT * FROM user ''')\n",
    "all = cursor.fetchall()\n",
    "\n",
    "for pl in all:\n",
    "    print(pl)\n"
   ]
  },
  {
   "cell_type": "markdown",
   "metadata": {},
   "source": [
    "# Python Function Definitions"
   ]
  },
  {
   "cell_type": "markdown",
   "metadata": {},
   "source": [
    "## Add New User\n",
    "\n",
    "Adds a user to the SoccerHours Database\n"
   ]
  },
  {
   "cell_type": "code",
   "execution_count": 15,
   "metadata": {},
   "outputs": [],
   "source": [
    "    cursor.execute(''' delete from user''')\n",
    "    cursor.execute(''' insert into sqlite_sequence values('user',0) ''')\n",
    "    db.commit()"
   ]
  },
  {
   "cell_type": "code",
   "execution_count": 22,
   "metadata": {},
   "outputs": [],
   "source": [
    "# Adds One New user by inserting into table 'users'\n",
    "\n",
    "def add_user(**userdata) :\n",
    "\n",
    "    #    cursor.execute(''' INSERT INTO users VALUES((select seq from sqlite_sequence)+1,'pgupta','Prajval','Gupta','A','A',78751,'prajval.gupta@gmail.com','abcd987600','2019-07-01 10:10:59') ''')\n",
    "    for key, value in userdata.items(): \n",
    "        print (\"%s = %s\" %(key, value))\n",
    "    \n",
    "    username=userdata['username']\n",
    "    firstname=userdata['firstname']\n",
    "    lastname=userdata['lastname']\n",
    "    email=userdata['email']\n",
    "    password=userdata['password']\n",
    "    zipcode=userdata['zipcode']\n",
    "    \n",
    "    cursor.execute(''' INSERT INTO user VALUES((select seq from sqlite_sequence where name='user')+1,?,?,?,'A','A',?,?,?,'2019-07-01 10:10:59') ''',(username,firstname,lastname,email,password,zipcode))\n",
    "    db.commit()\n"
   ]
  },
  {
   "cell_type": "code",
   "execution_count": 17,
   "metadata": {},
   "outputs": [],
   "source": [
    "# Adds One New user by inserting into table 'users'\n",
    "\n",
    "def add_user(**userdata) :\n",
    "\n",
    "    #    cursor.execute(''' INSERT INTO users VALUES((select seq from sqlite_sequence)+1,'pgupta','Prajval','Gupta','A','A',78751,'prajval.gupta@gmail.com','abcd987600','2019-07-01 10:10:59') ''')\n",
    "    for key, value in userdata.items(): \n",
    "        print (\"%s = %s\" %(key, value))\n",
    "    \n",
    "    username=userdata['username']\n",
    "    firstname=userdata['firstname']\n",
    "    lastname=userdata['lastname']\n",
    "    email=userdata['email']\n",
    "    password=userdata['password']\n",
    "    zipcode=userdata['zipcode']\n",
    "    \n",
    "    cursor.execute(''' INSERT INTO users VALUES((select seq from sqlite_sequence)+1,?,?,?,'A','A',?,?,?,'2019-07-01 10:10:59') ''',(username,firstname,lastname,email,password,zipcode))\n",
    "    db.commit()\n",
    "\n"
   ]
  },
  {
   "cell_type": "markdown",
   "metadata": {},
   "source": [
    "## Test Add_User"
   ]
  },
  {
   "cell_type": "code",
   "execution_count": 25,
   "metadata": {},
   "outputs": [
    {
     "name": "stdout",
     "output_type": "stream",
     "text": [
      "username = s7chak\n",
      "firstname = Subhayu\n",
      "lastname = Chakravarty\n",
      "email = s7chak@gmail.com\n",
      "password = Acbbjh15642\n",
      "zipcode = 78751\n"
     ]
    }
   ],
   "source": [
    "userdata = {'username':'s7chak', 'firstname': 'Subhayu', 'lastname': 'Chakravarty', 'email': 's7chak@gmail.com', 'password':'Acbbjh15642', 'zipcode':78751}\n",
    "\n",
    "add_user(**userdata)"
   ]
  },
  {
   "cell_type": "code",
   "execution_count": 21,
   "metadata": {},
   "outputs": [],
   "source": [
    "db.close()"
   ]
  },
  {
   "cell_type": "code",
   "execution_count": null,
   "metadata": {},
   "outputs": [],
   "source": []
  },
  {
   "cell_type": "code",
   "execution_count": null,
   "metadata": {},
   "outputs": [],
   "source": []
  },
  {
   "cell_type": "code",
   "execution_count": null,
   "metadata": {},
   "outputs": [],
   "source": []
  },
  {
   "cell_type": "markdown",
   "metadata": {},
   "source": [
    "## Add New Venue\n",
    "\n",
    "Adds a user to the SoccerHours Database\n"
   ]
  },
  {
   "cell_type": "code",
   "execution_count": 15,
   "metadata": {},
   "outputs": [],
   "source": [
    "    cursor.execute(''' delete from venue''')\n",
    "    cursor.execute(''' insert into sqlite_sequence values('venue',0) ''')\n",
    "    db.commit()"
   ]
  },
  {
   "cell_type": "code",
   "execution_count": 26,
   "metadata": {},
   "outputs": [],
   "source": [
    "# Adds One New Venue by inserting into table 'users'\n",
    "\n",
    "def add_venue(**venuedata) :\n",
    "\n",
    "    #    cursor.execute(''' INSERT INTO users VALUES((select seq from sqlite_sequence)+1,'pgupta','Prajval','Gupta','A','A',78751,'prajval.gupta@gmail.com','abcd987600','2019-07-01 10:10:59') ''')\n",
    "    for key, value in venuedata.items(): \n",
    "        print (\"%s = %s\" %(key, value))\n",
    "    \n",
    "    venuename=venuedata['venuename']\n",
    "    venuedesc=venuedata['venuedesc']\n",
    "    venueaddr=venuedata['venueaddr']\n",
    "    zipcode=venuedata['zipcode']\n",
    "    \n",
    "    cursor.execute(''' INSERT INTO venue VALUES((select seq from sqlite_sequence where name='venue')+1,?,?,?,?) ''',(venuename,venuedesc,venueaddr,zipcode))\n",
    "    db.commit()\n"
   ]
  },
  {
   "cell_type": "code",
   "execution_count": 17,
   "metadata": {},
   "outputs": [],
   "source": [
    "# Adds Multiple New Venues by inserting into table 'users'\n",
    "\n",
    "def add_venue(**venuedata) :\n",
    "\n",
    "    #    cursor.execute(''' INSERT INTO users VALUES((select seq from sqlite_sequence)+1,'pgupta','Prajval','Gupta','A','A',78751,'prajval.gupta@gmail.com','abcd987600','2019-07-01 10:10:59') ''')\n",
    "    for key, value in userdata.items(): \n",
    "        print (\"%s = %s\" %(key, value))\n",
    "    \n",
    "    username=userdata['username']\n",
    "    firstname=userdata['firstname']\n",
    "    lastname=userdata['lastname']\n",
    "    email=userdata['email']\n",
    "    password=userdata['password']\n",
    "    zipcode=userdata['zipcode']\n",
    "    \n",
    "    cursor.execute(''' INSERT INTO users VALUES((select seq from sqlite_sequence)+1,?,?,?,'A','A',?,?,?,'2019-07-01 10:10:59') ''',(username,firstname,lastname,email,password,zipcode))\n",
    "    db.commit()\n",
    "\n"
   ]
  },
  {
   "cell_type": "markdown",
   "metadata": {},
   "source": [
    "## Test Add_User"
   ]
  },
  {
   "cell_type": "code",
   "execution_count": 27,
   "metadata": {},
   "outputs": [
    {
     "name": "stdout",
     "output_type": "stream",
     "text": [
      "venuename = Zilker Park\n",
      "venuedesc = Zilker Park - Large open grounds near Barton Creek\n",
      "venueaddr = Zilker Park, Barton\n",
      "zipcode = 78751\n"
     ]
    }
   ],
   "source": [
    "venuedata = {'venuename':'Zilker Park', 'venuedesc': 'Zilker Park - Large open grounds near Barton Creek', 'venueaddr': 'Zilker Park, Barton', 'zipcode':78751}\n",
    "\n",
    "add_venue(**venuedata)"
   ]
  },
  {
   "cell_type": "code",
   "execution_count": null,
   "metadata": {},
   "outputs": [],
   "source": []
  },
  {
   "cell_type": "code",
   "execution_count": null,
   "metadata": {},
   "outputs": [],
   "source": []
  },
  {
   "cell_type": "code",
   "execution_count": null,
   "metadata": {},
   "outputs": [],
   "source": []
  }
 ],
 "metadata": {
  "kernelspec": {
   "display_name": "Python 3",
   "language": "python",
   "name": "python3"
  },
  "language_info": {
   "codemirror_mode": {
    "name": "ipython",
    "version": 3
   },
   "file_extension": ".py",
   "mimetype": "text/x-python",
   "name": "python",
   "nbconvert_exporter": "python",
   "pygments_lexer": "ipython3",
   "version": "3.7.3"
  }
 },
 "nbformat": 4,
 "nbformat_minor": 2
}
