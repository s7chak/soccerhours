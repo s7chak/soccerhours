{
 "cells": [
  {
   "cell_type": "markdown",
   "metadata": {},
   "source": [
    "# Soccer Hours\n"
   ]
  },
  {
   "cell_type": "markdown",
   "metadata": {},
   "source": [
    "## Setting up Database using Python"
   ]
  },
  {
   "cell_type": "code",
   "execution_count": 8,
   "metadata": {},
   "outputs": [
    {
     "ename": "OperationalError",
     "evalue": "no such table: events",
     "output_type": "error",
     "traceback": [
      "\u001b[0;31m---------------------------------------------------------------------------\u001b[0m",
      "\u001b[0;31mOperationalError\u001b[0m                          Traceback (most recent call last)",
      "\u001b[0;32m<ipython-input-8-6cac08fe5d30>\u001b[0m in \u001b[0;36m<module>\u001b[0;34m\u001b[0m\n\u001b[1;32m      5\u001b[0m \u001b[0mdb\u001b[0m\u001b[0;34m=\u001b[0m\u001b[0msqlite3\u001b[0m\u001b[0;34m.\u001b[0m\u001b[0mconnect\u001b[0m\u001b[0;34m(\u001b[0m\u001b[0;34m\"/Users/subhayuchakravarty/sqlite/db/soccerhours.db\"\u001b[0m\u001b[0;34m)\u001b[0m\u001b[0;34m\u001b[0m\u001b[0;34m\u001b[0m\u001b[0m\n\u001b[1;32m      6\u001b[0m \u001b[0mcursor\u001b[0m \u001b[0;34m=\u001b[0m \u001b[0mdb\u001b[0m\u001b[0;34m.\u001b[0m\u001b[0mcursor\u001b[0m\u001b[0;34m(\u001b[0m\u001b[0;34m)\u001b[0m\u001b[0;34m\u001b[0m\u001b[0;34m\u001b[0m\u001b[0m\n\u001b[0;32m----> 7\u001b[0;31m \u001b[0mcursor\u001b[0m\u001b[0;34m.\u001b[0m\u001b[0mexecute\u001b[0m\u001b[0;34m(\u001b[0m\u001b[0;34m'''Drop table events '''\u001b[0m\u001b[0;34m)\u001b[0m\u001b[0;34m\u001b[0m\u001b[0;34m\u001b[0m\u001b[0m\n\u001b[0m",
      "\u001b[0;31mOperationalError\u001b[0m: no such table: events"
     ]
    }
   ],
   "source": [
    "# Import sqlite3 module\n",
    "import sqlite3\n",
    "\n",
    "# Connect to the soccerhours database\n",
    "db=sqlite3.connect(\"/Users/subhayuchakravarty/sqlite/db/soccerhours.db\")\n",
    "cursor = db.cursor()"
   ]
  },
  {
   "cell_type": "code",
   "execution_count": 2,
   "metadata": {},
   "outputs": [
    {
     "data": {
      "text/plain": [
       "<sqlite3.Cursor at 0x105dc2500>"
      ]
     },
     "execution_count": 2,
     "metadata": {},
     "output_type": "execute_result"
    }
   ],
   "source": [
    "# Create table Users - Stores User data\n",
    "cursor.execute('''\n",
    "CREATE TABLE user (\n",
    "    user_id INTEGER PRIMARY KEY AUTOINCREMENT,\n",
    "    user_fname VARCHAR,\n",
    "    user_lname VARCHAR,\n",
    "    username VARCHAR NOT NULL,\n",
    "    admin_status VARCHAR NOT NULL,\n",
    "    user_status VARCHAR NOT NULL,\n",
    "    user_email VARCHAR NOT NULL,\n",
    "    zip_code INTEGER NOT NULL,\n",
    "    date_added DATETIME NOT NULL\n",
    ")\n",
    "''')\n"
   ]
  },
  {
   "cell_type": "code",
   "execution_count": 3,
   "metadata": {},
   "outputs": [
    {
     "data": {
      "text/plain": [
       "<sqlite3.Cursor at 0x105dc2500>"
      ]
     },
     "execution_count": 3,
     "metadata": {},
     "output_type": "execute_result"
    }
   ],
   "source": [
    "# Create table Venues - Stores Venue data\n",
    "cursor.execute('''\n",
    "CREATE TABLE venue (\n",
    "    venue_id INTEGER NOT NULL PRIMARY KEY,\n",
    "    venue_name VARCHAR NOT NULL,\n",
    "    venue_desc VARCHAR NOT NULL,\n",
    "    venue_st_addr VARCHAR NOT NULL,\n",
    "    venue_zip_code INTEGER NOT NULL\n",
    ")\n",
    "''')"
   ]
  },
  {
   "cell_type": "code",
   "execution_count": 9,
   "metadata": {},
   "outputs": [
    {
     "data": {
      "text/plain": [
       "<sqlite3.Cursor at 0x105c36ea0>"
      ]
     },
     "execution_count": 9,
     "metadata": {},
     "output_type": "execute_result"
    }
   ],
   "source": [
    "# Create table Venues - Stores Venue data\n",
    "cursor.execute('''\n",
    "CREATE TABLE events (\n",
    "    pk_event_id INTEGER PRIMARY KEY AUTOINCREMENT,\n",
    "    event_name VARCHAR NOT NULL,\n",
    "    event_desc VARCHAR NOT NULL,\n",
    "    event_date DATETIME NOT NULL,\n",
    "    start_time TIME NOT NULL,\n",
    "    end_time TIME NOT NULL,\n",
    "    fk_venue_id INTEGER NOT NULL,\n",
    "    event_capacity INTEGER NOT NULL,\n",
    "    event_status VARCHAR NOT NULL,\n",
    "    gender_options VARCHAR NOT NULL,\n",
    "    members_joined INTEGER NOT NULL,\n",
    "    FOREIGN KEY (venue_id) REFERENCES venue(venue_id)\n",
    ")\n",
    "''')"
   ]
  },
  {
   "cell_type": "code",
   "execution_count": 33,
   "metadata": {},
   "outputs": [],
   "source": [
    "# Write a query to list the contents of the table media_types and execute it.\n",
    "# Your code goes here.\n",
    "\n",
    "cursor.execute('''SELECT * FROM users ''')\n",
    "all = cursor.fetchall()\n",
    "\n",
    "for pl in all:\n",
    "    print(pl)\n"
   ]
  },
  {
   "cell_type": "markdown",
   "metadata": {},
   "source": [
    "# Python Function Definitions"
   ]
  },
  {
   "cell_type": "markdown",
   "metadata": {},
   "source": [
    "## Add New User\n",
    "\n",
    "Adds a user to the SoccerHours Database\n"
   ]
  },
  {
   "cell_type": "code",
   "execution_count": 33,
   "metadata": {},
   "outputs": [],
   "source": [
    "    cursor.execute(''' delete from users where userId=4 ''')\n",
    "    cursor.execute(''' update sqlite_sequence set seq=2 where name='users' ''')\n",
    "    db.commit()"
   ]
  },
  {
   "cell_type": "code",
   "execution_count": 30,
   "metadata": {},
   "outputs": [],
   "source": [
    "# Adds One New user by inserting into table 'users'\n",
    "\n",
    "def add_user(**userdata) :\n",
    "\n",
    "    #    cursor.execute(''' INSERT INTO users VALUES((select seq from sqlite_sequence)+1,'pgupta','Prajval','Gupta','A','A',78751,'prajval.gupta@gmail.com','abcd987600','2019-07-01 10:10:59') ''')\n",
    "    for key, value in userdata.items(): \n",
    "        print (\"%s = %s\" %(key, value))\n",
    "    \n",
    "    username=userdata['username']\n",
    "    firstname=userdata['firstname']\n",
    "    lastname=userdata['lastname']\n",
    "    email=userdata['email']\n",
    "    \n",
    "    cursor.execute(''' INSERT INTO users VALUES((select seq from sqlite_sequence)+1,?,?,?,'A','A',78751,?,'abcd987600','2019-07-01 10:10:59') ''',(username,firstname,lastname,email))\n",
    "    db.commit()\n"
   ]
  },
  {
   "cell_type": "code",
   "execution_count": null,
   "metadata": {},
   "outputs": [],
   "source": [
    "# Adds Multiple users from CSV\n",
    "\n",
    "def add_users(**userdata) :\n",
    "\n",
    "    username=userdata['username']\n",
    "    firstname=userdata['firstname']\n",
    "    lastname=userdata['lastname']\n",
    "    email=userdata['email']\n",
    "    \n",
    "    cursor.execute(''' INSERT INTO users VALUES((select seq from sqlite_sequence)+1,?,?,?,'A','A',78751,?,'abcd987600','2019-07-01 10:10:59') ''',(username,firstname,lastname,email))\n",
    "    db.commit()\n",
    "\n"
   ]
  },
  {
   "cell_type": "code",
   "execution_count": 31,
   "metadata": {},
   "outputs": [
    {
     "name": "stdout",
     "output_type": "stream",
     "text": [
      "username = pgupta\n",
      "firstname = Prajval\n",
      "lastname = Gupta\n",
      "email = prajval.gupta@gmail.com\n"
     ]
    }
   ],
   "source": [
    "userdata = {'username':'pgupta', 'firstname': 'Prajval', 'lastname': 'Gupta', 'email': 'prajval.gupta@gmail.com'}\n",
    "\n",
    "add_user(**userdata)"
   ]
  },
  {
   "cell_type": "code",
   "execution_count": 21,
   "metadata": {},
   "outputs": [],
   "source": [
    "db.close()"
   ]
  },
  {
   "cell_type": "code",
   "execution_count": null,
   "metadata": {},
   "outputs": [],
   "source": []
  }
 ],
 "metadata": {
  "kernelspec": {
   "display_name": "Python 3",
   "language": "python",
   "name": "python3"
  },
  "language_info": {
   "codemirror_mode": {
    "name": "ipython",
    "version": 3
   },
   "file_extension": ".py",
   "mimetype": "text/x-python",
   "name": "python",
   "nbconvert_exporter": "python",
   "pygments_lexer": "ipython3",
   "version": "3.7.3"
  }
 },
 "nbformat": 4,
 "nbformat_minor": 2
}
