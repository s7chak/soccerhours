{
 "cells": [
  {
   "cell_type": "markdown",
   "metadata": {},
   "source": [
    "# Soccer Hours\n"
   ]
  },
  {
   "cell_type": "markdown",
   "metadata": {},
   "source": [
    "## Setting up Database using Python"
   ]
  },
  {
   "cell_type": "code",
   "execution_count": 211,
   "metadata": {},
   "outputs": [],
   "source": [
    "# Import sqlite3 module\n",
    "import sqlite3\n",
    "\n",
    "import datetime\n",
    "\n",
    "# Connect to the soccerhours database\n",
    "db=sqlite3.connect(\"/Users/subhayuchakravarty/sqlite/db/soccerhours2.db\")\n",
    "cursor = db.cursor()\n"
   ]
  },
  {
   "cell_type": "code",
   "execution_count": 42,
   "metadata": {},
   "outputs": [],
   "source": [
    "def get_slot_ids(starttime, endtime):\n",
    "    diff = endtime - starttime\n",
    "    slotstarts=starttime\n",
    "    slotids = list()\n",
    "    cursor.execute(''' SELECT slot_id from timeslots where start_time= ? ''',(starttime,))\n",
    "    slotids.append(cursor.fetchone()[0])\n",
    "    \n",
    "    if diff>1:\n",
    "        for i in range(diff-1): \n",
    "            slotids.append(slotids[i]+1)\n",
    "        return slotids    \n",
    "    else:\n",
    "        return slotids[0]"
   ]
  },
  {
   "cell_type": "code",
   "execution_count": 6,
   "metadata": {},
   "outputs": [
    {
     "data": {
      "text/plain": [
       "<sqlite3.Cursor at 0x108b1bf80>"
      ]
     },
     "execution_count": 6,
     "metadata": {},
     "output_type": "execute_result"
    }
   ],
   "source": [
    "cursor.execute(''' drop table event_members ''')"
   ]
  },
  {
   "cell_type": "code",
   "execution_count": 45,
   "metadata": {},
   "outputs": [
    {
     "data": {
      "text/plain": [
       "<sqlite3.Cursor at 0x107d59340>"
      ]
     },
     "execution_count": 45,
     "metadata": {},
     "output_type": "execute_result"
    }
   ],
   "source": [
    "# Create table Users - Stores User data\n",
    "cursor.execute('''\n",
    "CREATE TABLE user (\n",
    "    pk_user_id INTEGER PRIMARY KEY AUTOINCREMENT,\n",
    "    user_fname VARCHAR,\n",
    "    user_lname VARCHAR,\n",
    "    username VARCHAR NOT NULL,\n",
    "    admin_status VARCHAR NOT NULL,\n",
    "    user_status VARCHAR NOT NULL,\n",
    "    user_email VARCHAR NOT NULL,\n",
    "    user_password VARCHAR NOT NULL,\n",
    "    zip_code INTEGER NOT NULL,\n",
    "    date_added TIMESTAMP NOT NULL\n",
    ")\n",
    "''')\n"
   ]
  },
  {
   "cell_type": "code",
   "execution_count": null,
   "metadata": {},
   "outputs": [],
   "source": [
    "cursor.execute(''' Insert into sqlite_sequence values(''user'',100) '''\n",
    "cursor.execute(''' Insert into sqlite_sequence values(''venue'',200) '''\n",
    "cursor.execute(''' Insert into sqlite_sequence values(''events'',300) '''\n",
    "db.commit()"
   ]
  },
  {
   "cell_type": "code",
   "execution_count": 46,
   "metadata": {},
   "outputs": [
    {
     "data": {
      "text/plain": [
       "<sqlite3.Cursor at 0x107d59340>"
      ]
     },
     "execution_count": 46,
     "metadata": {},
     "output_type": "execute_result"
    }
   ],
   "source": [
    "# Create table Venues - Stores Venue data\n",
    "cursor.execute('''\n",
    "CREATE TABLE venue (\n",
    "    pk_venue_id INTEGER NOT NULL PRIMARY KEY AUTOINCREMENT,\n",
    "    venue_name VARCHAR NOT NULL,\n",
    "    venue_desc VARCHAR NOT NULL,\n",
    "    venue_st_addr VARCHAR NOT NULL,\n",
    "    venue_zip_code INTEGER NOT NULL\n",
    ")\n",
    "''')"
   ]
  },
  {
   "cell_type": "code",
   "execution_count": 48,
   "metadata": {},
   "outputs": [
    {
     "data": {
      "text/plain": [
       "<sqlite3.Cursor at 0x107d59340>"
      ]
     },
     "execution_count": 48,
     "metadata": {},
     "output_type": "execute_result"
    }
   ],
   "source": [
    "# Create table Venues - Stores Venue data\n",
    "cursor.execute('''\n",
    "CREATE TABLE events (\n",
    "    pk_event_id INTEGER PRIMARY KEY AUTOINCREMENT,\n",
    "    event_name VARCHAR NOT NULL,\n",
    "    event_desc VARCHAR NOT NULL,\n",
    "    event_date DATETIME NOT NULL,\n",
    "    start_time INTEGER NOT NULL,\n",
    "    end_time INTEGER NOT NULL,\n",
    "    user_id INTEGER NOT NULL,    \n",
    "    venue_id INTEGER NOT NULL,\n",
    "    event_capacity INTEGER NOT NULL,\n",
    "    event_status VARCHAR NOT NULL,\n",
    "    gender_option VARCHAR NOT NULL,\n",
    "    members_joined INTEGER NOT NULL,\n",
    "    slots VARCHAR NOT NULL\n",
    ")\n",
    "''')"
   ]
  },
  {
   "cell_type": "code",
   "execution_count": 51,
   "metadata": {},
   "outputs": [],
   "source": [
    "cursor.execute(''' Insert into sqlite_sequence values('user',100) ''')\n",
    "cursor.execute(''' Insert into sqlite_sequence values('venue',200) ''')\n",
    "cursor.execute(''' Insert into sqlite_sequence values('events',300) ''')\n",
    "db.commit()"
   ]
  },
  {
   "cell_type": "code",
   "execution_count": 53,
   "metadata": {},
   "outputs": [
    {
     "data": {
      "text/plain": [
       "<sqlite3.Cursor at 0x107d59340>"
      ]
     },
     "execution_count": 53,
     "metadata": {},
     "output_type": "execute_result"
    }
   ],
   "source": [
    "# Create table Venues - Stores Venue data\n",
    "cursor.execute('''\n",
    "CREATE TABLE slots (\n",
    "    slot_id INTEGER NOT NULL,\n",
    "    venue_id INTEGER NOT NULL,\n",
    "    date DATETIME NOT NULL,\n",
    "    availability VARCHAR NOT NULL\n",
    ")\n",
    "''')"
   ]
  },
  {
   "cell_type": "code",
   "execution_count": 54,
   "metadata": {},
   "outputs": [
    {
     "data": {
      "text/plain": [
       "<sqlite3.Cursor at 0x107d59340>"
      ]
     },
     "execution_count": 54,
     "metadata": {},
     "output_type": "execute_result"
    }
   ],
   "source": [
    "# Create table Venues - Stores Venue data\n",
    "cursor.execute('''\n",
    "CREATE TABLE event_members (\n",
    "    event_id INTEGER NOT NULL,\n",
    "    user_id INTEGER NOT NULL\n",
    ")\n",
    "''')"
   ]
  },
  {
   "cell_type": "code",
   "execution_count": 58,
   "metadata": {},
   "outputs": [],
   "source": [
    "# Create Static table for Slot ID defintions\n",
    "cursor.execute('''\n",
    "CREATE TABLE timeslots (\n",
    "    start_time INTEGER NOT NULL,\n",
    "    slot_id INTEGER NOT NULL\n",
    ")\n",
    "''')\n",
    "\n",
    "cursor.execute('''\n",
    "INSERT INTO timeslots VALUES (8,1),(9,2),(10,3),(11,4),(12,5),(13,6),(14,7),(15,8),(16,9),(17,10),(18,11),(19,12),(20,13);\n",
    "''')\n",
    "db.commit()"
   ]
  },
  {
   "cell_type": "code",
   "execution_count": 59,
   "metadata": {},
   "outputs": [],
   "source": [
    "# Write a query to list the contents of the table media_types and execute it.\n",
    "# Your code goes here.\n",
    "\n",
    "cursor.execute('''SELECT * FROM user ''')\n",
    "all = cursor.fetchall()\n",
    "\n",
    "for pl in all:\n",
    "    print(pl)\n"
   ]
  },
  {
   "cell_type": "markdown",
   "metadata": {},
   "source": [
    "# Python Function Definitions"
   ]
  },
  {
   "cell_type": "markdown",
   "metadata": {},
   "source": [
    "## 1. Add New User\n",
    "\n",
    "Adds a user to the SoccerHours Database\n"
   ]
  },
  {
   "cell_type": "code",
   "execution_count": 59,
   "metadata": {},
   "outputs": [],
   "source": [
    "    cursor.execute(''' delete from user''')\n",
    "    cursor.execute(''' insert into sqlite_sequence values('user',0) ''')\n",
    "#     cursor.execute(''' delete from sqlite_sequence where name='user' ''')\n",
    "#    cursor.execute(''' update sqlite_sequence set seq=0 where name='user' ''')\n",
    "    db.commit()"
   ]
  },
  {
   "cell_type": "code",
   "execution_count": 84,
   "metadata": {},
   "outputs": [],
   "source": [
    "# Adds One New user by inserting into table 'users'\n",
    "\n",
    "def add_user(**userdata) :\n",
    "    \n",
    "    username=userdata['username']\n",
    "    firstname=userdata['firstname']\n",
    "    lastname=userdata['lastname']\n",
    "    email=userdata['email']\n",
    "    password=userdata['password']\n",
    "    zipcode=userdata['zipcode']\n",
    "\n",
    "\n",
    "\n",
    "    \n",
    "    #email duplication check\n",
    "    \n",
    "    cursor.execute(''' INSERT INTO user VALUES((select seq from sqlite_sequence where name='user')+1,?,?,?,'A','A',?,?,?,?) ''',(username,firstname,lastname,email,password,zipcode,datetime.datetime.now()))\n",
    "    db.commit()\n"
   ]
  },
  {
   "cell_type": "code",
   "execution_count": 69,
   "metadata": {},
   "outputs": [],
   "source": [
    "# Adds Multiple New user by inserting into table 'users'\n",
    "\n",
    "def add_users(**userdata) :\n",
    "    \n",
    "    username=userdata['username']\n",
    "    firstname=userdata['firstname']\n",
    "    lastname=userdata['lastname']\n",
    "    email=userdata['email']\n",
    "    password=userdata['password']\n",
    "    zipcode=userdata['zipcode']\n",
    "    \n",
    "    \n",
    "    cursor.execute(''' INSERT INTO users VALUES((select seq from sqlite_sequence)+1,?,?,?,'A','A',?,?,?,?) ''',(username,firstname,lastname,email,password,zipcode,date('now')))\n",
    "    db.commit()\n",
    "\n"
   ]
  },
  {
   "cell_type": "markdown",
   "metadata": {},
   "source": [
    "## Test Add_User"
   ]
  },
  {
   "cell_type": "code",
   "execution_count": 87,
   "metadata": {},
   "outputs": [
    {
     "name": "stdout",
     "output_type": "stream",
     "text": [
      "UserName:pgupta\n",
      "First Name:Prajval\n",
      "Last Name:Gupta\n",
      "Email ID:pgupta@gmail.com\n",
      "Password:IUYIUY*&^&^\n",
      "Default Zip Code:78751\n"
     ]
    }
   ],
   "source": [
    "userdata=dict()\n",
    "userdata['username']=input(\"UserName:\")\n",
    "userdata['firstname']=input(\"First Name:\")\n",
    "userdata['lastname']=input(\"Last Name:\")\n",
    "userdata['email']=input(\"Email ID:\")\n",
    "userdata['password']=input(\"Password:\")\n",
    "userdata['zipcode']=input(\"Default Zip Code:\")\n",
    "\n",
    "add_user(**userdata)"
   ]
  },
  {
   "cell_type": "code",
   "execution_count": 21,
   "metadata": {},
   "outputs": [],
   "source": [
    "db.close()"
   ]
  },
  {
   "cell_type": "code",
   "execution_count": null,
   "metadata": {},
   "outputs": [],
   "source": []
  },
  {
   "cell_type": "markdown",
   "metadata": {},
   "source": [
    "## 2. Add New Venue\n",
    "\n",
    "Adds a user to the SoccerHours Database\n"
   ]
  },
  {
   "cell_type": "code",
   "execution_count": 316,
   "metadata": {},
   "outputs": [],
   "source": [
    "    cursor.execute(''' delete from venue''')\n",
    "    cursor.execute(''' delete from slots''')\n",
    "    cursor.execute(''' delete from sqlite_sequence where name='venue' ''')    \n",
    "    cursor.execute(''' insert into sqlite_sequence values('venue',0) ''')\n",
    "    db.commit()"
   ]
  },
  {
   "cell_type": "code",
   "execution_count": 107,
   "metadata": {},
   "outputs": [],
   "source": [
    "# Adds One New Venue by inserting into table 'venue'\n",
    "\n",
    "def add_venue(**venuedata) :\n",
    "    \n",
    "    venuename=venuedata['venuename']\n",
    "    venuedesc=venuedata['venuedesc']\n",
    "    venueaddr=venuedata['venueaddr']\n",
    "    zipcode=venuedata['zipcode']\n",
    "\n",
    "#     cursor.execute(''' Select seq+1 from sqlite_sequence where name='venue' ''')\n",
    "#     venueid=cursor.fetchone()[0]\n",
    "    \n",
    "    \n",
    "    # duplicate venue check\n",
    "\n",
    "    # Inserts into venue\n",
    "    cursor.execute(''' INSERT INTO venue VALUES((Select seq+1 from sqlite_sequence where name='venue'),?,?,?,?) ''',(venuename,venuedesc,venueaddr,zipcode))\n",
    "\n",
    "    \n",
    "    # Inserts into Slots table - assuming all slots available\n",
    "    #for i in range(13):\n",
    "    #   cursor.execute(''' INSERT INTO slots VALUES(?+1,CAST(? as INTEGER),'A') ''',(i,venueid))\n",
    "    \n",
    "    db.commit()\n",
    "\n",
    "\n"
   ]
  },
  {
   "cell_type": "code",
   "execution_count": 306,
   "metadata": {},
   "outputs": [],
   "source": [
    "db.close()\n",
    "# Connect to the soccerhours database\n",
    "db=sqlite3.connect(\"/Users/subhayuchakravarty/sqlite/db/soccerhours2.db\")\n",
    "cursor = db.cursor()"
   ]
  },
  {
   "cell_type": "markdown",
   "metadata": {},
   "source": [
    "## Test Add_Venue"
   ]
  },
  {
   "cell_type": "code",
   "execution_count": 109,
   "metadata": {},
   "outputs": [
    {
     "name": "stdout",
     "output_type": "stream",
     "text": [
      "Venue Short Name:Clarks Field 1\n",
      "Venue Description:UT Austin Clark's ground 1\n",
      "Address:UT Austin\n",
      "Zip Code:78712\n"
     ]
    }
   ],
   "source": [
    "venuedata=dict()\n",
    "venuedata['venuename']=input(\"Venue Short Name:\")\n",
    "venuedata['venuedesc']=input(\"Venue Description:\")\n",
    "venuedata['venueaddr']=input(\"Address:\")\n",
    "venuedata['zipcode']=input(\"Zip Code:\")\n",
    "\n",
    "add_venue(**venuedata)"
   ]
  },
  {
   "cell_type": "code",
   "execution_count": null,
   "metadata": {},
   "outputs": [],
   "source": []
  },
  {
   "cell_type": "markdown",
   "metadata": {},
   "source": [
    "## 3. Start an Event\n",
    "\n",
    "Adds an event into soccerhours database in Active status with 1 member added"
   ]
  },
  {
   "cell_type": "code",
   "execution_count": 317,
   "metadata": {
    "scrolled": true
   },
   "outputs": [],
   "source": [
    "    cursor.execute(''' delete from events''')\n",
    "    cursor.execute(''' delete from event_members''')    \n",
    "    cursor.execute(''' delete from slots''')    \n",
    "    cursor.execute(''' insert into sqlite_sequence values('events',0) ''')\n",
    "    db.commit()\n",
    "    "
   ]
  },
  {
   "cell_type": "code",
   "execution_count": 139,
   "metadata": {},
   "outputs": [],
   "source": [
    "# Adds the New Event by inserting into table 'events'\n",
    "\n",
    "def start_event(**eventdata) :\n",
    "    \n",
    "    venueid=eventdata['venueid']    \n",
    "    userid=eventdata['userid'] \n",
    "    eventname=eventdata['eventname']\n",
    "    eventdesc=eventdata['eventdesc']\n",
    "    eventdate=eventdata['eventdate']\n",
    "    starttime=eventdata['starttime']\n",
    "    endtime=eventdata['endtime']\n",
    "    eventcapacity=eventdata['eventcapacity']\n",
    "    genderoption=eventdata['genderoption']\n",
    "    # Derive slots from StartTime, EndTime\n",
    "    slotids=get_slot_ids(int(starttime),int(endtime))\n",
    "    slots=\",\".join(map(str,slotids))\n",
    "    print(slots)\n",
    "    cursor.execute(''' Select seq+1 from sqlite_sequence where name='events' ''')    \n",
    "    eventid=cursor.fetchone()[0]\n",
    "    \n",
    "        \n",
    "    # Check if valid user ()\n",
    "    # If today, check if start time later than current time\n",
    "    \n",
    "    cursor.execute(''' INSERT INTO events(pk_event_id,event_name,event_desc,event_date,start_time,end_time,user_id,venue_id,event_capacity,event_status,members_joined,slots,gender_option) VALUES(?,?,?,?,?,?,?,?,?,'A',1,?,?) ''',(eventid,eventname,eventdesc,eventdate,starttime,endtime,userid,venueid,eventcapacity,slots,genderoption))\n",
    "\n",
    "    # Insert entry in event_members\n",
    "    cursor.execute(''' INSERT INTO event_members VALUES(?,?) ''',(eventid,userid))\n",
    "    \n",
    "    # Check if entries exist in Slots\n",
    "    slotspresent = check_venue_slots(venueid, eventdate)\n",
    "    if ~slotspresent:\n",
    "        for i in range(13):\n",
    "            cursor.execute(''' INSERT INTO slots VALUES(?+1,CAST(? as INTEGER),?,'A') ''',(i,venueid,eventdate))\n",
    "\n",
    "    for i in slotids:\n",
    "        cursor.execute(''' Update slots set availability='U' where venue_id=? and slot_id=? ''',(venueid,i))\n",
    "        \n",
    "    db.commit()"
   ]
  },
  {
   "cell_type": "code",
   "execution_count": 140,
   "metadata": {},
   "outputs": [],
   "source": [
    "def check_venue_slots(venueid, eventdate):\n",
    "    cursor.execute(''' Select 1 from slots where venue_id=? and date=? ''',(venueid,eventdate))\n",
    "    return bool(cursor.fetchone())\n",
    "    "
   ]
  },
  {
   "cell_type": "markdown",
   "metadata": {},
   "source": [
    "## Test Start_Event"
   ]
  },
  {
   "cell_type": "code",
   "execution_count": 141,
   "metadata": {},
   "outputs": [
    {
     "name": "stdout",
     "output_type": "stream",
     "text": [
      "Event Name:Profs at Zilker\n",
      "Event Description:Friendly Football Profs MSBA\n",
      "Event Date(YYYY-MM-DD):2019-07-28\n",
      "Start Time (Hour in 24-hr format):16\n",
      "End Time (Hour in 24-hr format):19\n",
      "Venue ID:201\n",
      "Total Event Capacity:10\n",
      "Gender Option:M\n",
      "User ID:102\n",
      "9,10,11\n"
     ]
    }
   ],
   "source": [
    "eventdata=dict()\n",
    "eventdata['eventname']=input(\"Event Name:\")\n",
    "eventdata['eventdesc']=input(\"Event Description:\")\n",
    "eventdata['eventdate']=input(\"Event Date(YYYY-MM-DD):\")\n",
    "eventdata['starttime']=input(\"Start Time (Hour in 24-hr format):\")\n",
    "eventdata['endtime']=input(\"End Time (Hour in 24-hr format):\")\n",
    "eventdata['venueid']=input(\"Venue ID:\")\n",
    "eventdata['eventcapacity']=input(\"Total Event Capacity:\")\n",
    "eventdata['genderoption']=input(\"Gender Option:\")\n",
    "eventdata['userid']=input(\"User ID:\")\n",
    "\n",
    "add_venue(**venuedata)\n",
    "\n",
    "#eventdata = {'eventname':'Zilker-Footy', 'eventdesc': 'A friendly between UT Grads', 'eventdate': '2019-07-21', 'starttime':8, 'endtime': 10, 'venueid': 202,'eventcapacity': 4, 'genderoption': 'C', 'userid':101}\n",
    "\n",
    "start_event(**eventdata)"
   ]
  },
  {
   "cell_type": "markdown",
   "metadata": {},
   "source": [
    "# 4. Display timeslot availability at a venue"
   ]
  },
  {
   "cell_type": "code",
   "execution_count": null,
   "metadata": {},
   "outputs": [],
   "source": [
    "# Display timeslot availability at a selected venue\n",
    "\n",
    "def disp_slot_avl(**availdata) :\n",
    "    \n",
    "    for key, value in availdata.items(): \n",
    "        print (\"%s = %s\" %(key, value))\n",
    "    \n",
    "    venueid=availdata['venueid']    \n",
    "    availdate=availdata['availdate']\n",
    "    \n",
    "    cursor.execute('''SELECT start_time FROM timeslots t JOIN slots s ON t.slot_id=s.slot_id WHERE s.fk_venue_id=? AND s.date=?  AND s.availability=\\'A\\'''',(venueid,availdate))\n",
    "    \n",
    "    db.commit()\n"
   ]
  },
  {
   "cell_type": "markdown",
   "metadata": {},
   "source": [
    "# Test timeslot availability at a venue"
   ]
  },
  {
   "cell_type": "code",
   "execution_count": null,
   "metadata": {},
   "outputs": [],
   "source": [
    "availdata= {'venueid': '2', 'availdate': '2019-07-20'}\n",
    "disp_slot_avl(**availdata)"
   ]
  },
  {
   "cell_type": "markdown",
   "metadata": {},
   "source": [
    "## 5. Display all venues where particular time slot is available\n",
    "\n",
    "Selects all the available venues for a particular chosen time slot"
   ]
  },
  {
   "cell_type": "code",
   "execution_count": 220,
   "metadata": {},
   "outputs": [],
   "source": [
    "# Selects venues where a certain time slot is available\n",
    "\n",
    "def display_venues_for_slot(starttime, endtime, date) :\n",
    "\n",
    "    slotids=get_slot_ids(starttime, endtime)\n",
    "    \n",
    "    print (\"%s => %s\" % (starttime, endtime))\n",
    "    print(slotids)\n",
    "\n",
    "    qmark= \"?\"\n",
    "    if isinstance(slotids,list):\n",
    "        qmarks= \",\".join(qmark for slotid in slotids)\n",
    "    else:\n",
    "        qmarks=qmark\n",
    "    print(qmarks)\n",
    "\n",
    "    selectNonEventsquery = \"SELECT distinct s.venue_id, v.venue_name from slots s join venue v on v.pk_venue_id=s.venue_id where venue_id not in (SELECT distinct venue_id from slots where availability ='U' and slot_id in ({0}) and date='{1}') UNION SELECT distinct v.pk_venue_id, v.venue_name from venue v where pk_venue_id not in (SELECT venue_id from slots)\".format(qmarks,date)\n",
    "#     selectEventsquery = \"SELECT distinct s.venue_id, v.venue_name from slots s join venue v on v.pk_venue_id=s.venue_id where venue_id not in (SELECT  venue_id from slots where availability ='U' and slot_id in ({0}) and date={1}) UNION SELECT distinct v.pk_venue_id, v.venue_name from venue v where pk_venue_id not in (SELECT venue_id from slots)\".format(qmarks,date)\n",
    "    \n",
    "    print(selectNonEventsquery)\n",
    "    cursor.execute(selectNonEventsquery, slotids)\n",
    "    venuesforslot=cursor.fetchall()\n",
    "    \n",
    "    for t in venuesforslot:\n",
    "        print(t)\n",
    "        \n",
    "    return venuesforslot"
   ]
  },
  {
   "cell_type": "markdown",
   "metadata": {},
   "source": [
    "## Test Display_Venues_For_Slot"
   ]
  },
  {
   "cell_type": "code",
   "execution_count": 221,
   "metadata": {},
   "outputs": [
    {
     "name": "stdout",
     "output_type": "stream",
     "text": [
      "8 => 19\n",
      "[1, 2, 3, 4, 5, 6, 7, 8, 9, 10, 11]\n",
      "?,?,?,?,?,?,?,?,?,?,?\n",
      "SELECT distinct s.venue_id, v.venue_name from slots s join venue v on v.pk_venue_id=s.venue_id where venue_id not in (SELECT distinct venue_id from slots where availability ='U' and slot_id in (?,?,?,?,?,?,?,?,?,?,?) and date='2019-07-28') UNION SELECT distinct v.pk_venue_id, v.venue_name from venue v where pk_venue_id not in (SELECT venue_id from slots)\n",
      "(202, 'Zilker Field_1')\n",
      "(203, 'Clarks Field_1')\n",
      "(204, 'Clarks Field 2')\n",
      "(205, 'Clarks Field 3')\n"
     ]
    },
    {
     "data": {
      "text/plain": [
       "[(202, 'Zilker Field_1'),\n",
       " (203, 'Clarks Field_1'),\n",
       " (204, 'Clarks Field 2'),\n",
       " (205, 'Clarks Field 3')]"
      ]
     },
     "execution_count": 221,
     "metadata": {},
     "output_type": "execute_result"
    }
   ],
   "source": [
    "display_venues_for_slot(8,19,'2019-07-28')"
   ]
  },
  {
   "cell_type": "code",
   "execution_count": 486,
   "metadata": {},
   "outputs": [],
   "source": [
    "db.close()"
   ]
  },
  {
   "cell_type": "code",
   "execution_count": null,
   "metadata": {},
   "outputs": [],
   "source": []
  },
  {
   "cell_type": "markdown",
   "metadata": {},
   "source": [
    "## 7. User Joins an Event"
   ]
  },
  {
   "cell_type": "code",
   "execution_count": 222,
   "metadata": {},
   "outputs": [],
   "source": [
    "# Updates tables when a user joins an event\n",
    "\n",
    "def user_joins_event(userid, eventid) :\n",
    "\n",
    "    cursor.execute(''' Select event_capacity, members_joined from events where pk_event_id=? ''', (eventid,))\n",
    "    eventroom=cursor.fetchone()\n",
    "\n",
    "    if eventroom[0]>eventroom[1]:\n",
    "        # Update Events table\n",
    "        cursor.execute(''' Update events set members_joined=members_joined+1 where pk_event_id=? ''', (eventid,))\n",
    "\n",
    "        # Update EventMembers table\n",
    "        cursor.execute(''' INSERT INTO event_members values (?,?) ''',(eventid, userid))\n",
    "        print(\"UserID: {0} has joined event: {1}\".format(userid,eventid))\n",
    "    else:\n",
    "        return \"Event is full\"\n",
    "    \n",
    "\n",
    "    db.commit()"
   ]
  },
  {
   "cell_type": "code",
   "execution_count": 15,
   "metadata": {},
   "outputs": [
    {
     "data": {
      "text/plain": [
       "<sqlite3.Cursor at 0x107d0dd50>"
      ]
     },
     "execution_count": 15,
     "metadata": {},
     "output_type": "execute_result"
    }
   ],
   "source": [
    "cursor.execute(''' Update events set event_capacity=2 where pk_event_id=2 ''')"
   ]
  },
  {
   "cell_type": "markdown",
   "metadata": {},
   "source": [
    "## Test User_Joins_Event"
   ]
  },
  {
   "cell_type": "code",
   "execution_count": 223,
   "metadata": {},
   "outputs": [
    {
     "name": "stdout",
     "output_type": "stream",
     "text": [
      "UserID: 102 has joined event: 301\n"
     ]
    }
   ],
   "source": [
    "user_joins_event(102,301)"
   ]
  },
  {
   "cell_type": "code",
   "execution_count": null,
   "metadata": {},
   "outputs": [],
   "source": []
  },
  {
   "cell_type": "code",
   "execution_count": null,
   "metadata": {},
   "outputs": [],
   "source": []
  },
  {
   "cell_type": "code",
   "execution_count": null,
   "metadata": {},
   "outputs": [],
   "source": []
  },
  {
   "cell_type": "code",
   "execution_count": null,
   "metadata": {},
   "outputs": [],
   "source": []
  },
  {
   "cell_type": "code",
   "execution_count": null,
   "metadata": {},
   "outputs": [],
   "source": []
  }
 ],
 "metadata": {
  "kernelspec": {
   "display_name": "Python 3",
   "language": "python",
   "name": "python3"
  },
  "language_info": {
   "codemirror_mode": {
    "name": "ipython",
    "version": 3
   },
   "file_extension": ".py",
   "mimetype": "text/x-python",
   "name": "python",
   "nbconvert_exporter": "python",
   "pygments_lexer": "ipython3",
   "version": "3.7.3"
  }
 },
 "nbformat": 4,
 "nbformat_minor": 2
}
